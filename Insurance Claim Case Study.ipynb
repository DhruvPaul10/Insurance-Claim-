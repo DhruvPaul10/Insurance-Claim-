{
 "cells": [
  {
   "cell_type": "code",
   "execution_count": 563,
   "id": "19dd44b8",
   "metadata": {},
   "outputs": [],
   "source": [
    "# Importing the libraries\n",
    "import numpy as np\n",
    "import pandas as pd\n",
    "import datetime as dt\n",
    "import matplotlib.pyplot as plt\n",
    "%matplotlib inline\n",
    "import seaborn as sns\n",
    "import ydata_profiling.profile_report "
   ]
  },
  {
   "cell_type": "code",
   "execution_count": 564,
   "id": "b95cacd6",
   "metadata": {},
   "outputs": [
    {
     "data": {
      "text/plain": [
       "'\\n1. Import claims_data.csv and cust_data.csv which is provided to you and\\ncombine the two datasets appropriately to create a 360-degree view of\\nthe data. Use the same for the subsequent questions.\\n'"
      ]
     },
     "execution_count": 564,
     "metadata": {},
     "output_type": "execute_result"
    }
   ],
   "source": [
    "'''\n",
    "1. Import claims_data.csv and cust_data.csv which is provided to you and\n",
    "combine the two datasets appropriately to create a 360-degree view of\n",
    "the data. Use the same for the subsequent questions.\n",
    "'''"
   ]
  },
  {
   "cell_type": "code",
   "execution_count": 565,
   "id": "b95c422b",
   "metadata": {},
   "outputs": [],
   "source": [
    "# Importing the dataset\n",
    "file_path = 'C://Projects_python//Project//Case Study//Downloads//Case Study 3 - Insurance Claims Case Study//'"
   ]
  },
  {
   "cell_type": "code",
   "execution_count": 566,
   "id": "bcae05b5",
   "metadata": {},
   "outputs": [],
   "source": [
    "file_name = 'claims.csv'\n",
    "claim = pd.read_csv(file_path+file_name)"
   ]
  },
  {
   "cell_type": "code",
   "execution_count": 567,
   "id": "745df6a0",
   "metadata": {},
   "outputs": [],
   "source": [
    "file_name = 'cust_demographics.csv'\n",
    "cust_demographics = pd.read_csv(file_path+file_name)"
   ]
  },
  {
   "cell_type": "code",
   "execution_count": 568,
   "id": "3bf2aac8",
   "metadata": {},
   "outputs": [
    {
     "data": {
      "text/html": [
       "<div>\n",
       "<style scoped>\n",
       "    .dataframe tbody tr th:only-of-type {\n",
       "        vertical-align: middle;\n",
       "    }\n",
       "\n",
       "    .dataframe tbody tr th {\n",
       "        vertical-align: top;\n",
       "    }\n",
       "\n",
       "    .dataframe thead th {\n",
       "        text-align: right;\n",
       "    }\n",
       "</style>\n",
       "<table border=\"1\" class=\"dataframe\">\n",
       "  <thead>\n",
       "    <tr style=\"text-align: right;\">\n",
       "      <th></th>\n",
       "      <th>claim_id</th>\n",
       "      <th>customer_id</th>\n",
       "      <th>incident_cause</th>\n",
       "      <th>claim_date</th>\n",
       "      <th>claim_area</th>\n",
       "      <th>police_report</th>\n",
       "      <th>claim_type</th>\n",
       "      <th>claim_amount</th>\n",
       "      <th>total_policy_claims</th>\n",
       "      <th>fraudulent</th>\n",
       "    </tr>\n",
       "  </thead>\n",
       "  <tbody>\n",
       "    <tr>\n",
       "      <th>0</th>\n",
       "      <td>54004764</td>\n",
       "      <td>21868593</td>\n",
       "      <td>Driver error</td>\n",
       "      <td>11/27/2017</td>\n",
       "      <td>Auto</td>\n",
       "      <td>No</td>\n",
       "      <td>Material only</td>\n",
       "      <td>$2980</td>\n",
       "      <td>1.0</td>\n",
       "      <td>No</td>\n",
       "    </tr>\n",
       "    <tr>\n",
       "      <th>1</th>\n",
       "      <td>33985796</td>\n",
       "      <td>75740424</td>\n",
       "      <td>Crime</td>\n",
       "      <td>10/03/2018</td>\n",
       "      <td>Home</td>\n",
       "      <td>Unknown</td>\n",
       "      <td>Material only</td>\n",
       "      <td>$2980</td>\n",
       "      <td>3.0</td>\n",
       "      <td>No</td>\n",
       "    </tr>\n",
       "    <tr>\n",
       "      <th>2</th>\n",
       "      <td>53522022</td>\n",
       "      <td>30308357</td>\n",
       "      <td>Other driver error</td>\n",
       "      <td>02/02/2018</td>\n",
       "      <td>Auto</td>\n",
       "      <td>No</td>\n",
       "      <td>Material only</td>\n",
       "      <td>$3369.5</td>\n",
       "      <td>1.0</td>\n",
       "      <td>Yes</td>\n",
       "    </tr>\n",
       "    <tr>\n",
       "      <th>3</th>\n",
       "      <td>13015401</td>\n",
       "      <td>47830476</td>\n",
       "      <td>Natural causes</td>\n",
       "      <td>06/17/2018</td>\n",
       "      <td>Auto</td>\n",
       "      <td>No</td>\n",
       "      <td>Material only</td>\n",
       "      <td>$1680</td>\n",
       "      <td>1.0</td>\n",
       "      <td>No</td>\n",
       "    </tr>\n",
       "    <tr>\n",
       "      <th>4</th>\n",
       "      <td>22890252</td>\n",
       "      <td>19269962</td>\n",
       "      <td>Crime</td>\n",
       "      <td>01/13/2018</td>\n",
       "      <td>Auto</td>\n",
       "      <td>No</td>\n",
       "      <td>Material only</td>\n",
       "      <td>$2680</td>\n",
       "      <td>1.0</td>\n",
       "      <td>No</td>\n",
       "    </tr>\n",
       "  </tbody>\n",
       "</table>\n",
       "</div>"
      ],
      "text/plain": [
       "   claim_id  customer_id      incident_cause  claim_date claim_area  \\\n",
       "0  54004764     21868593        Driver error  11/27/2017       Auto   \n",
       "1  33985796     75740424               Crime  10/03/2018       Home   \n",
       "2  53522022     30308357  Other driver error  02/02/2018       Auto   \n",
       "3  13015401     47830476      Natural causes  06/17/2018       Auto   \n",
       "4  22890252     19269962               Crime  01/13/2018       Auto   \n",
       "\n",
       "  police_report     claim_type claim_amount  total_policy_claims fraudulent  \n",
       "0            No  Material only        $2980                  1.0         No  \n",
       "1       Unknown  Material only        $2980                  3.0         No  \n",
       "2            No  Material only      $3369.5                  1.0        Yes  \n",
       "3            No  Material only        $1680                  1.0         No  \n",
       "4            No  Material only        $2680                  1.0         No  "
      ]
     },
     "execution_count": 568,
     "metadata": {},
     "output_type": "execute_result"
    }
   ],
   "source": [
    "claim.head()"
   ]
  },
  {
   "cell_type": "code",
   "execution_count": 569,
   "id": "1c8d1d57",
   "metadata": {},
   "outputs": [
    {
     "data": {
      "text/html": [
       "<div>\n",
       "<style scoped>\n",
       "    .dataframe tbody tr th:only-of-type {\n",
       "        vertical-align: middle;\n",
       "    }\n",
       "\n",
       "    .dataframe tbody tr th {\n",
       "        vertical-align: top;\n",
       "    }\n",
       "\n",
       "    .dataframe thead th {\n",
       "        text-align: right;\n",
       "    }\n",
       "</style>\n",
       "<table border=\"1\" class=\"dataframe\">\n",
       "  <thead>\n",
       "    <tr style=\"text-align: right;\">\n",
       "      <th></th>\n",
       "      <th>CUST_ID</th>\n",
       "      <th>gender</th>\n",
       "      <th>DateOfBirth</th>\n",
       "      <th>State</th>\n",
       "      <th>Contact</th>\n",
       "      <th>Segment</th>\n",
       "    </tr>\n",
       "  </thead>\n",
       "  <tbody>\n",
       "    <tr>\n",
       "      <th>0</th>\n",
       "      <td>21868593</td>\n",
       "      <td>Female</td>\n",
       "      <td>12-Jan-79</td>\n",
       "      <td>VT</td>\n",
       "      <td>789-916-8172</td>\n",
       "      <td>Platinum</td>\n",
       "    </tr>\n",
       "    <tr>\n",
       "      <th>1</th>\n",
       "      <td>75740424</td>\n",
       "      <td>Female</td>\n",
       "      <td>13-Jan-70</td>\n",
       "      <td>ME</td>\n",
       "      <td>265-543-1264</td>\n",
       "      <td>Silver</td>\n",
       "    </tr>\n",
       "    <tr>\n",
       "      <th>2</th>\n",
       "      <td>30308357</td>\n",
       "      <td>Female</td>\n",
       "      <td>11-Mar-84</td>\n",
       "      <td>TN</td>\n",
       "      <td>798-631-4758</td>\n",
       "      <td>Silver</td>\n",
       "    </tr>\n",
       "    <tr>\n",
       "      <th>3</th>\n",
       "      <td>47830476</td>\n",
       "      <td>Female</td>\n",
       "      <td>01-May-86</td>\n",
       "      <td>MA</td>\n",
       "      <td>413-187-7945</td>\n",
       "      <td>Silver</td>\n",
       "    </tr>\n",
       "    <tr>\n",
       "      <th>4</th>\n",
       "      <td>19269962</td>\n",
       "      <td>Male</td>\n",
       "      <td>13-May-77</td>\n",
       "      <td>NV</td>\n",
       "      <td>956-871-8691</td>\n",
       "      <td>Gold</td>\n",
       "    </tr>\n",
       "  </tbody>\n",
       "</table>\n",
       "</div>"
      ],
      "text/plain": [
       "    CUST_ID  gender DateOfBirth State       Contact   Segment\n",
       "0  21868593  Female   12-Jan-79    VT  789-916-8172  Platinum\n",
       "1  75740424  Female   13-Jan-70    ME  265-543-1264    Silver\n",
       "2  30308357  Female   11-Mar-84    TN  798-631-4758    Silver\n",
       "3  47830476  Female   01-May-86    MA  413-187-7945    Silver\n",
       "4  19269962    Male   13-May-77    NV  956-871-8691      Gold"
      ]
     },
     "execution_count": 569,
     "metadata": {},
     "output_type": "execute_result"
    }
   ],
   "source": [
    "cust_demographics.head()"
   ]
  },
  {
   "cell_type": "code",
   "execution_count": 570,
   "id": "1350fba2",
   "metadata": {},
   "outputs": [
    {
     "data": {
      "text/plain": [
       "claim_id                 int64\n",
       "customer_id              int64\n",
       "incident_cause          object\n",
       "claim_date              object\n",
       "claim_area              object\n",
       "police_report           object\n",
       "claim_type              object\n",
       "claim_amount            object\n",
       "total_policy_claims    float64\n",
       "fraudulent              object\n",
       "dtype: object"
      ]
     },
     "execution_count": 570,
     "metadata": {},
     "output_type": "execute_result"
    }
   ],
   "source": [
    "claim.dtypes"
   ]
  },
  {
   "cell_type": "code",
   "execution_count": 571,
   "id": "7bf97498",
   "metadata": {},
   "outputs": [
    {
     "data": {
      "text/plain": [
       "CUST_ID         int64\n",
       "gender         object\n",
       "DateOfBirth    object\n",
       "State          object\n",
       "Contact        object\n",
       "Segment        object\n",
       "dtype: object"
      ]
     },
     "execution_count": 571,
     "metadata": {},
     "output_type": "execute_result"
    }
   ],
   "source": [
    "cust_demographics.dtypes"
   ]
  },
  {
   "cell_type": "code",
   "execution_count": 572,
   "id": "73ad4596",
   "metadata": {},
   "outputs": [],
   "source": [
    "merged_table = pd.merge(left= claim, right= cust_demographics, left_on= 'customer_id', right_on= 'CUST_ID', how= 'left')"
   ]
  },
  {
   "cell_type": "code",
   "execution_count": 573,
   "id": "0f500dc0",
   "metadata": {},
   "outputs": [
    {
     "data": {
      "text/html": [
       "<div>\n",
       "<style scoped>\n",
       "    .dataframe tbody tr th:only-of-type {\n",
       "        vertical-align: middle;\n",
       "    }\n",
       "\n",
       "    .dataframe tbody tr th {\n",
       "        vertical-align: top;\n",
       "    }\n",
       "\n",
       "    .dataframe thead th {\n",
       "        text-align: right;\n",
       "    }\n",
       "</style>\n",
       "<table border=\"1\" class=\"dataframe\">\n",
       "  <thead>\n",
       "    <tr style=\"text-align: right;\">\n",
       "      <th></th>\n",
       "      <th>claim_id</th>\n",
       "      <th>customer_id</th>\n",
       "      <th>incident_cause</th>\n",
       "      <th>claim_date</th>\n",
       "      <th>claim_area</th>\n",
       "      <th>police_report</th>\n",
       "      <th>claim_type</th>\n",
       "      <th>claim_amount</th>\n",
       "      <th>total_policy_claims</th>\n",
       "      <th>fraudulent</th>\n",
       "      <th>CUST_ID</th>\n",
       "      <th>gender</th>\n",
       "      <th>DateOfBirth</th>\n",
       "      <th>State</th>\n",
       "      <th>Contact</th>\n",
       "      <th>Segment</th>\n",
       "    </tr>\n",
       "  </thead>\n",
       "  <tbody>\n",
       "    <tr>\n",
       "      <th>0</th>\n",
       "      <td>54004764</td>\n",
       "      <td>21868593</td>\n",
       "      <td>Driver error</td>\n",
       "      <td>11/27/2017</td>\n",
       "      <td>Auto</td>\n",
       "      <td>No</td>\n",
       "      <td>Material only</td>\n",
       "      <td>$2980</td>\n",
       "      <td>1.0</td>\n",
       "      <td>No</td>\n",
       "      <td>21868593.0</td>\n",
       "      <td>Female</td>\n",
       "      <td>12-Jan-79</td>\n",
       "      <td>VT</td>\n",
       "      <td>789-916-8172</td>\n",
       "      <td>Platinum</td>\n",
       "    </tr>\n",
       "    <tr>\n",
       "      <th>1</th>\n",
       "      <td>33985796</td>\n",
       "      <td>75740424</td>\n",
       "      <td>Crime</td>\n",
       "      <td>10/03/2018</td>\n",
       "      <td>Home</td>\n",
       "      <td>Unknown</td>\n",
       "      <td>Material only</td>\n",
       "      <td>$2980</td>\n",
       "      <td>3.0</td>\n",
       "      <td>No</td>\n",
       "      <td>75740424.0</td>\n",
       "      <td>Female</td>\n",
       "      <td>13-Jan-70</td>\n",
       "      <td>ME</td>\n",
       "      <td>265-543-1264</td>\n",
       "      <td>Silver</td>\n",
       "    </tr>\n",
       "    <tr>\n",
       "      <th>2</th>\n",
       "      <td>53522022</td>\n",
       "      <td>30308357</td>\n",
       "      <td>Other driver error</td>\n",
       "      <td>02/02/2018</td>\n",
       "      <td>Auto</td>\n",
       "      <td>No</td>\n",
       "      <td>Material only</td>\n",
       "      <td>$3369.5</td>\n",
       "      <td>1.0</td>\n",
       "      <td>Yes</td>\n",
       "      <td>30308357.0</td>\n",
       "      <td>Female</td>\n",
       "      <td>11-Mar-84</td>\n",
       "      <td>TN</td>\n",
       "      <td>798-631-4758</td>\n",
       "      <td>Silver</td>\n",
       "    </tr>\n",
       "    <tr>\n",
       "      <th>3</th>\n",
       "      <td>13015401</td>\n",
       "      <td>47830476</td>\n",
       "      <td>Natural causes</td>\n",
       "      <td>06/17/2018</td>\n",
       "      <td>Auto</td>\n",
       "      <td>No</td>\n",
       "      <td>Material only</td>\n",
       "      <td>$1680</td>\n",
       "      <td>1.0</td>\n",
       "      <td>No</td>\n",
       "      <td>47830476.0</td>\n",
       "      <td>Female</td>\n",
       "      <td>01-May-86</td>\n",
       "      <td>MA</td>\n",
       "      <td>413-187-7945</td>\n",
       "      <td>Silver</td>\n",
       "    </tr>\n",
       "    <tr>\n",
       "      <th>4</th>\n",
       "      <td>22890252</td>\n",
       "      <td>19269962</td>\n",
       "      <td>Crime</td>\n",
       "      <td>01/13/2018</td>\n",
       "      <td>Auto</td>\n",
       "      <td>No</td>\n",
       "      <td>Material only</td>\n",
       "      <td>$2680</td>\n",
       "      <td>1.0</td>\n",
       "      <td>No</td>\n",
       "      <td>19269962.0</td>\n",
       "      <td>Male</td>\n",
       "      <td>13-May-77</td>\n",
       "      <td>NV</td>\n",
       "      <td>956-871-8691</td>\n",
       "      <td>Gold</td>\n",
       "    </tr>\n",
       "  </tbody>\n",
       "</table>\n",
       "</div>"
      ],
      "text/plain": [
       "   claim_id  customer_id      incident_cause  claim_date claim_area  \\\n",
       "0  54004764     21868593        Driver error  11/27/2017       Auto   \n",
       "1  33985796     75740424               Crime  10/03/2018       Home   \n",
       "2  53522022     30308357  Other driver error  02/02/2018       Auto   \n",
       "3  13015401     47830476      Natural causes  06/17/2018       Auto   \n",
       "4  22890252     19269962               Crime  01/13/2018       Auto   \n",
       "\n",
       "  police_report     claim_type claim_amount  total_policy_claims fraudulent  \\\n",
       "0            No  Material only        $2980                  1.0         No   \n",
       "1       Unknown  Material only        $2980                  3.0         No   \n",
       "2            No  Material only      $3369.5                  1.0        Yes   \n",
       "3            No  Material only        $1680                  1.0         No   \n",
       "4            No  Material only        $2680                  1.0         No   \n",
       "\n",
       "      CUST_ID  gender DateOfBirth State       Contact   Segment  \n",
       "0  21868593.0  Female   12-Jan-79    VT  789-916-8172  Platinum  \n",
       "1  75740424.0  Female   13-Jan-70    ME  265-543-1264    Silver  \n",
       "2  30308357.0  Female   11-Mar-84    TN  798-631-4758    Silver  \n",
       "3  47830476.0  Female   01-May-86    MA  413-187-7945    Silver  \n",
       "4  19269962.0    Male   13-May-77    NV  956-871-8691      Gold  "
      ]
     },
     "execution_count": 573,
     "metadata": {},
     "output_type": "execute_result"
    }
   ],
   "source": [
    "merged_table.head()"
   ]
  },
  {
   "cell_type": "code",
   "execution_count": 574,
   "id": "6d4625ef",
   "metadata": {},
   "outputs": [
    {
     "data": {
      "text/plain": [
       "'\\n2. Perform a data audit for the datatypes and find out if there are any\\nmismatch within the current datatypes of the columns and their\\nbusiness significance.\\n'"
      ]
     },
     "execution_count": 574,
     "metadata": {},
     "output_type": "execute_result"
    }
   ],
   "source": [
    "'''\n",
    "2. Perform a data audit for the datatypes and find out if there are any\n",
    "mismatch within the current datatypes of the columns and their\n",
    "business significance.\n",
    "'''"
   ]
  },
  {
   "cell_type": "code",
   "execution_count": 575,
   "id": "b55c2864",
   "metadata": {},
   "outputs": [
    {
     "data": {
      "text/plain": [
       "claim_id                 int64\n",
       "customer_id              int64\n",
       "incident_cause          object\n",
       "claim_date              object\n",
       "claim_area              object\n",
       "police_report           object\n",
       "claim_type              object\n",
       "claim_amount            object\n",
       "total_policy_claims    float64\n",
       "fraudulent              object\n",
       "CUST_ID                float64\n",
       "gender                  object\n",
       "DateOfBirth             object\n",
       "State                   object\n",
       "Contact                 object\n",
       "Segment                 object\n",
       "dtype: object"
      ]
     },
     "execution_count": 575,
     "metadata": {},
     "output_type": "execute_result"
    }
   ],
   "source": [
    "merged_table.dtypes"
   ]
  },
  {
   "cell_type": "code",
   "execution_count": 576,
   "id": "f78ff4f5",
   "metadata": {},
   "outputs": [],
   "source": [
    "merged_table.claim_id = merged_table.claim_id.astype('str')\n",
    "merged_table.customer_id = merged_table.customer_id.astype('str')\n",
    "merged_table.CUST_ID = merged_table.CUST_ID.astype('str')"
   ]
  },
  {
   "cell_type": "code",
   "execution_count": 577,
   "id": "2cba7864",
   "metadata": {},
   "outputs": [
    {
     "data": {
      "text/plain": [
       "claim_id                object\n",
       "customer_id             object\n",
       "incident_cause          object\n",
       "claim_date              object\n",
       "claim_area              object\n",
       "police_report           object\n",
       "claim_type              object\n",
       "claim_amount            object\n",
       "total_policy_claims    float64\n",
       "fraudulent              object\n",
       "CUST_ID                 object\n",
       "gender                  object\n",
       "DateOfBirth             object\n",
       "State                   object\n",
       "Contact                 object\n",
       "Segment                 object\n",
       "dtype: object"
      ]
     },
     "execution_count": 577,
     "metadata": {},
     "output_type": "execute_result"
    }
   ],
   "source": [
    "merged_table.dtypes"
   ]
  },
  {
   "cell_type": "code",
   "execution_count": 578,
   "id": "0b3cef11",
   "metadata": {},
   "outputs": [],
   "source": [
    "merged_table.claim_date =pd.to_datetime(merged_table.claim_date)\n",
    "merged_table.DateOfBirth =pd.to_datetime(merged_table.DateOfBirth)"
   ]
  },
  {
   "cell_type": "code",
   "execution_count": 579,
   "id": "2f78722a",
   "metadata": {},
   "outputs": [
    {
     "data": {
      "text/plain": [
       "claim_id                       object\n",
       "customer_id                    object\n",
       "incident_cause                 object\n",
       "claim_date             datetime64[ns]\n",
       "claim_area                     object\n",
       "police_report                  object\n",
       "claim_type                     object\n",
       "claim_amount                   object\n",
       "total_policy_claims           float64\n",
       "fraudulent                     object\n",
       "CUST_ID                        object\n",
       "gender                         object\n",
       "DateOfBirth            datetime64[ns]\n",
       "State                          object\n",
       "Contact                        object\n",
       "Segment                        object\n",
       "dtype: object"
      ]
     },
     "execution_count": 579,
     "metadata": {},
     "output_type": "execute_result"
    }
   ],
   "source": [
    "merged_table.dtypes"
   ]
  },
  {
   "cell_type": "code",
   "execution_count": 580,
   "id": "dc83c0cc",
   "metadata": {},
   "outputs": [
    {
     "name": "stderr",
     "output_type": "stream",
     "text": [
      "C:\\Users\\pauld\\AppData\\Local\\Temp\\ipykernel_4524\\1050068555.py:2: FutureWarning: The default value of regex will change from True to False in a future version. In addition, single character regular expressions will *not* be treated as literal strings when regex=True.\n",
      "  merged_table['claim_amount'] = merged_table['claim_amount'].str.replace('$','')\n"
     ]
    }
   ],
   "source": [
    "merged_table[\"claim_amount\"]= merged_table['claim_amount'].astype(str)\n",
    "merged_table['claim_amount'] = merged_table['claim_amount'].str.replace('$','')\n",
    "merged_table['claim_amount']= np.where(merged_table.claim_amount== \"nan\",\"\",merged_table.claim_amount )"
   ]
  },
  {
   "cell_type": "code",
   "execution_count": 581,
   "id": "e6a16670",
   "metadata": {},
   "outputs": [],
   "source": [
    "merged_table[\"claim_amount\"]= pd.to_numeric(merged_table['claim_amount'])"
   ]
  },
  {
   "cell_type": "code",
   "execution_count": 582,
   "id": "c0048cd3",
   "metadata": {},
   "outputs": [
    {
     "data": {
      "text/html": [
       "<div>\n",
       "<style scoped>\n",
       "    .dataframe tbody tr th:only-of-type {\n",
       "        vertical-align: middle;\n",
       "    }\n",
       "\n",
       "    .dataframe tbody tr th {\n",
       "        vertical-align: top;\n",
       "    }\n",
       "\n",
       "    .dataframe thead th {\n",
       "        text-align: right;\n",
       "    }\n",
       "</style>\n",
       "<table border=\"1\" class=\"dataframe\">\n",
       "  <thead>\n",
       "    <tr style=\"text-align: right;\">\n",
       "      <th></th>\n",
       "      <th>claim_id</th>\n",
       "      <th>customer_id</th>\n",
       "      <th>incident_cause</th>\n",
       "      <th>claim_date</th>\n",
       "      <th>claim_area</th>\n",
       "      <th>police_report</th>\n",
       "      <th>claim_type</th>\n",
       "      <th>claim_amount</th>\n",
       "      <th>total_policy_claims</th>\n",
       "      <th>fraudulent</th>\n",
       "      <th>CUST_ID</th>\n",
       "      <th>gender</th>\n",
       "      <th>DateOfBirth</th>\n",
       "      <th>State</th>\n",
       "      <th>Contact</th>\n",
       "      <th>Segment</th>\n",
       "    </tr>\n",
       "  </thead>\n",
       "  <tbody>\n",
       "    <tr>\n",
       "      <th>0</th>\n",
       "      <td>54004764</td>\n",
       "      <td>21868593</td>\n",
       "      <td>Driver error</td>\n",
       "      <td>2017-11-27</td>\n",
       "      <td>Auto</td>\n",
       "      <td>No</td>\n",
       "      <td>Material only</td>\n",
       "      <td>2980.0</td>\n",
       "      <td>1.0</td>\n",
       "      <td>No</td>\n",
       "      <td>21868593.0</td>\n",
       "      <td>Female</td>\n",
       "      <td>1979-01-12</td>\n",
       "      <td>VT</td>\n",
       "      <td>789-916-8172</td>\n",
       "      <td>Platinum</td>\n",
       "    </tr>\n",
       "    <tr>\n",
       "      <th>1</th>\n",
       "      <td>33985796</td>\n",
       "      <td>75740424</td>\n",
       "      <td>Crime</td>\n",
       "      <td>2018-10-03</td>\n",
       "      <td>Home</td>\n",
       "      <td>Unknown</td>\n",
       "      <td>Material only</td>\n",
       "      <td>2980.0</td>\n",
       "      <td>3.0</td>\n",
       "      <td>No</td>\n",
       "      <td>75740424.0</td>\n",
       "      <td>Female</td>\n",
       "      <td>2070-01-13</td>\n",
       "      <td>ME</td>\n",
       "      <td>265-543-1264</td>\n",
       "      <td>Silver</td>\n",
       "    </tr>\n",
       "    <tr>\n",
       "      <th>2</th>\n",
       "      <td>53522022</td>\n",
       "      <td>30308357</td>\n",
       "      <td>Other driver error</td>\n",
       "      <td>2018-02-02</td>\n",
       "      <td>Auto</td>\n",
       "      <td>No</td>\n",
       "      <td>Material only</td>\n",
       "      <td>3369.5</td>\n",
       "      <td>1.0</td>\n",
       "      <td>Yes</td>\n",
       "      <td>30308357.0</td>\n",
       "      <td>Female</td>\n",
       "      <td>1984-03-11</td>\n",
       "      <td>TN</td>\n",
       "      <td>798-631-4758</td>\n",
       "      <td>Silver</td>\n",
       "    </tr>\n",
       "    <tr>\n",
       "      <th>3</th>\n",
       "      <td>13015401</td>\n",
       "      <td>47830476</td>\n",
       "      <td>Natural causes</td>\n",
       "      <td>2018-06-17</td>\n",
       "      <td>Auto</td>\n",
       "      <td>No</td>\n",
       "      <td>Material only</td>\n",
       "      <td>1680.0</td>\n",
       "      <td>1.0</td>\n",
       "      <td>No</td>\n",
       "      <td>47830476.0</td>\n",
       "      <td>Female</td>\n",
       "      <td>1986-05-01</td>\n",
       "      <td>MA</td>\n",
       "      <td>413-187-7945</td>\n",
       "      <td>Silver</td>\n",
       "    </tr>\n",
       "    <tr>\n",
       "      <th>4</th>\n",
       "      <td>22890252</td>\n",
       "      <td>19269962</td>\n",
       "      <td>Crime</td>\n",
       "      <td>2018-01-13</td>\n",
       "      <td>Auto</td>\n",
       "      <td>No</td>\n",
       "      <td>Material only</td>\n",
       "      <td>2680.0</td>\n",
       "      <td>1.0</td>\n",
       "      <td>No</td>\n",
       "      <td>19269962.0</td>\n",
       "      <td>Male</td>\n",
       "      <td>1977-05-13</td>\n",
       "      <td>NV</td>\n",
       "      <td>956-871-8691</td>\n",
       "      <td>Gold</td>\n",
       "    </tr>\n",
       "  </tbody>\n",
       "</table>\n",
       "</div>"
      ],
      "text/plain": [
       "   claim_id customer_id      incident_cause claim_date claim_area  \\\n",
       "0  54004764    21868593        Driver error 2017-11-27       Auto   \n",
       "1  33985796    75740424               Crime 2018-10-03       Home   \n",
       "2  53522022    30308357  Other driver error 2018-02-02       Auto   \n",
       "3  13015401    47830476      Natural causes 2018-06-17       Auto   \n",
       "4  22890252    19269962               Crime 2018-01-13       Auto   \n",
       "\n",
       "  police_report     claim_type  claim_amount  total_policy_claims fraudulent  \\\n",
       "0            No  Material only        2980.0                  1.0         No   \n",
       "1       Unknown  Material only        2980.0                  3.0         No   \n",
       "2            No  Material only        3369.5                  1.0        Yes   \n",
       "3            No  Material only        1680.0                  1.0         No   \n",
       "4            No  Material only        2680.0                  1.0         No   \n",
       "\n",
       "      CUST_ID  gender DateOfBirth State       Contact   Segment  \n",
       "0  21868593.0  Female  1979-01-12    VT  789-916-8172  Platinum  \n",
       "1  75740424.0  Female  2070-01-13    ME  265-543-1264    Silver  \n",
       "2  30308357.0  Female  1984-03-11    TN  798-631-4758    Silver  \n",
       "3  47830476.0  Female  1986-05-01    MA  413-187-7945    Silver  \n",
       "4  19269962.0    Male  1977-05-13    NV  956-871-8691      Gold  "
      ]
     },
     "execution_count": 582,
     "metadata": {},
     "output_type": "execute_result"
    }
   ],
   "source": [
    "merged_table.head()"
   ]
  },
  {
   "cell_type": "code",
   "execution_count": 583,
   "id": "ee193547",
   "metadata": {},
   "outputs": [
    {
     "data": {
      "text/plain": [
       "claim_id                       object\n",
       "customer_id                    object\n",
       "incident_cause                 object\n",
       "claim_date             datetime64[ns]\n",
       "claim_area                     object\n",
       "police_report                  object\n",
       "claim_type                     object\n",
       "claim_amount                  float64\n",
       "total_policy_claims           float64\n",
       "fraudulent                     object\n",
       "CUST_ID                        object\n",
       "gender                         object\n",
       "DateOfBirth            datetime64[ns]\n",
       "State                          object\n",
       "Contact                        object\n",
       "Segment                        object\n",
       "dtype: object"
      ]
     },
     "execution_count": 583,
     "metadata": {},
     "output_type": "execute_result"
    }
   ],
   "source": [
    "merged_table.dtypes"
   ]
  },
  {
   "cell_type": "code",
   "execution_count": 584,
   "id": "dce34a5d",
   "metadata": {},
   "outputs": [],
   "source": [
    "numeric_columns = merged_table.select_dtypes(include = 'number')\n",
    "catagorial_cols = merged_table.select_dtypes(include = 'object')"
   ]
  },
  {
   "cell_type": "code",
   "execution_count": 585,
   "id": "fae07e8e",
   "metadata": {},
   "outputs": [],
   "source": [
    "def continuous_var_summary( x ):\n",
    "    \n",
    "    # freq and missings\n",
    "    n_total = x.shape[0]\n",
    "    n_miss = x.isna().sum()\n",
    "    perc_miss = n_miss * 100 / n_total\n",
    "    \n",
    "    # outliers - iqr\n",
    "    q1 = x.quantile(0.25)\n",
    "    q3 = x.quantile(0.75)\n",
    "    iqr = q3 - q1\n",
    "    lc_iqr = q1 - 1.5 * iqr\n",
    "    uc_iqr = q3 + 1.5 * iqr\n",
    "    \n",
    "    return pd.Series( [ x.dtype, x.nunique(), n_total, x.count(), n_miss, perc_miss,\n",
    "                       x.sum(), x.mean(), x.std(), x.var(), lc_iqr, uc_iqr, \n",
    "                       x.min(), x.quantile(0.01), x.quantile(0.05), x.quantile(0.10), \n",
    "                       x.quantile(0.25), x.quantile(0.5), x.quantile(0.75), \n",
    "                       x.quantile(0.90), x.quantile(0.95), x.quantile(0.99), x.max() ], \n",
    "                     \n",
    "                    index = ['dtype', 'cardinality', 'n_tot', 'n', 'nmiss', 'perc_miss',\n",
    "                             'sum', 'mean', 'std', 'var', 'lc_iqr', 'uc_iqr', 'min', 'p1', 'p5', \n",
    "                             'p10', 'p25', 'p50', 'p75', 'p90', 'p95', 'p99', 'max']) "
   ]
  },
  {
   "cell_type": "code",
   "execution_count": 586,
   "id": "f608f3c1",
   "metadata": {},
   "outputs": [],
   "source": [
    "# In[296]:\n",
    "\n",
    "\n",
    "def categorical_var_summary( x ):\n",
    "    \n",
    "    Mode = x.value_counts().sort_values(ascending = False)[0:1].reset_index()\n",
    "    return pd.Series([x.count(), x.isnull().sum(), Mode.iloc[0, 0], Mode.iloc[0, 1], \n",
    "                          round(Mode.iloc[0, 1] * 100 / x.count(), 2)], \n",
    "                     \n",
    "                  index = ['n', 'nmiss', 'MODE', 'FREQ', 'PERCENT'])"
   ]
  },
  {
   "cell_type": "code",
   "execution_count": 587,
   "id": "e768f4cf",
   "metadata": {},
   "outputs": [
    {
     "data": {
      "text/html": [
       "<div>\n",
       "<style scoped>\n",
       "    .dataframe tbody tr th:only-of-type {\n",
       "        vertical-align: middle;\n",
       "    }\n",
       "\n",
       "    .dataframe tbody tr th {\n",
       "        vertical-align: top;\n",
       "    }\n",
       "\n",
       "    .dataframe thead th {\n",
       "        text-align: right;\n",
       "    }\n",
       "</style>\n",
       "<table border=\"1\" class=\"dataframe\">\n",
       "  <thead>\n",
       "    <tr style=\"text-align: right;\">\n",
       "      <th></th>\n",
       "      <th>claim_amount</th>\n",
       "      <th>total_policy_claims</th>\n",
       "    </tr>\n",
       "  </thead>\n",
       "  <tbody>\n",
       "    <tr>\n",
       "      <th>dtype</th>\n",
       "      <td>float64</td>\n",
       "      <td>float64</td>\n",
       "    </tr>\n",
       "    <tr>\n",
       "      <th>cardinality</th>\n",
       "      <td>683</td>\n",
       "      <td>8</td>\n",
       "    </tr>\n",
       "    <tr>\n",
       "      <th>n_tot</th>\n",
       "      <td>1100</td>\n",
       "      <td>1100</td>\n",
       "    </tr>\n",
       "    <tr>\n",
       "      <th>n</th>\n",
       "      <td>1035</td>\n",
       "      <td>1090</td>\n",
       "    </tr>\n",
       "    <tr>\n",
       "      <th>nmiss</th>\n",
       "      <td>65</td>\n",
       "      <td>10</td>\n",
       "    </tr>\n",
       "    <tr>\n",
       "      <th>perc_miss</th>\n",
       "      <td>5.909091</td>\n",
       "      <td>0.909091</td>\n",
       "    </tr>\n",
       "    <tr>\n",
       "      <th>sum</th>\n",
       "      <td>12877599.5</td>\n",
       "      <td>1735.0</td>\n",
       "    </tr>\n",
       "    <tr>\n",
       "      <th>mean</th>\n",
       "      <td>12442.125121</td>\n",
       "      <td>1.591743</td>\n",
       "    </tr>\n",
       "    <tr>\n",
       "      <th>std</th>\n",
       "      <td>13766.391982</td>\n",
       "      <td>1.147251</td>\n",
       "    </tr>\n",
       "    <tr>\n",
       "      <th>var</th>\n",
       "      <td>189513548.202657</td>\n",
       "      <td>1.316185</td>\n",
       "    </tr>\n",
       "    <tr>\n",
       "      <th>lc_iqr</th>\n",
       "      <td>-31775.0</td>\n",
       "      <td>-0.5</td>\n",
       "    </tr>\n",
       "    <tr>\n",
       "      <th>uc_iqr</th>\n",
       "      <td>57945.0</td>\n",
       "      <td>3.5</td>\n",
       "    </tr>\n",
       "    <tr>\n",
       "      <th>min</th>\n",
       "      <td>1000.0</td>\n",
       "      <td>1.0</td>\n",
       "    </tr>\n",
       "    <tr>\n",
       "      <th>p1</th>\n",
       "      <td>1033.4</td>\n",
       "      <td>1.0</td>\n",
       "    </tr>\n",
       "    <tr>\n",
       "      <th>p5</th>\n",
       "      <td>1180.0</td>\n",
       "      <td>1.0</td>\n",
       "    </tr>\n",
       "    <tr>\n",
       "      <th>p10</th>\n",
       "      <td>1350.0</td>\n",
       "      <td>1.0</td>\n",
       "    </tr>\n",
       "    <tr>\n",
       "      <th>p25</th>\n",
       "      <td>1870.0</td>\n",
       "      <td>1.0</td>\n",
       "    </tr>\n",
       "    <tr>\n",
       "      <th>p50</th>\n",
       "      <td>2740.0</td>\n",
       "      <td>1.0</td>\n",
       "    </tr>\n",
       "    <tr>\n",
       "      <th>p75</th>\n",
       "      <td>24300.0</td>\n",
       "      <td>2.0</td>\n",
       "    </tr>\n",
       "    <tr>\n",
       "      <th>p90</th>\n",
       "      <td>34264.0</td>\n",
       "      <td>3.0</td>\n",
       "    </tr>\n",
       "    <tr>\n",
       "      <th>p95</th>\n",
       "      <td>37760.1</td>\n",
       "      <td>4.0</td>\n",
       "    </tr>\n",
       "    <tr>\n",
       "      <th>p99</th>\n",
       "      <td>44607.35</td>\n",
       "      <td>6.0</td>\n",
       "    </tr>\n",
       "    <tr>\n",
       "      <th>max</th>\n",
       "      <td>48150.5</td>\n",
       "      <td>8.0</td>\n",
       "    </tr>\n",
       "  </tbody>\n",
       "</table>\n",
       "</div>"
      ],
      "text/plain": [
       "                 claim_amount total_policy_claims\n",
       "dtype                 float64             float64\n",
       "cardinality               683                   8\n",
       "n_tot                    1100                1100\n",
       "n                        1035                1090\n",
       "nmiss                      65                  10\n",
       "perc_miss            5.909091            0.909091\n",
       "sum                12877599.5              1735.0\n",
       "mean             12442.125121            1.591743\n",
       "std              13766.391982            1.147251\n",
       "var          189513548.202657            1.316185\n",
       "lc_iqr               -31775.0                -0.5\n",
       "uc_iqr                57945.0                 3.5\n",
       "min                    1000.0                 1.0\n",
       "p1                     1033.4                 1.0\n",
       "p5                     1180.0                 1.0\n",
       "p10                    1350.0                 1.0\n",
       "p25                    1870.0                 1.0\n",
       "p50                    2740.0                 1.0\n",
       "p75                   24300.0                 2.0\n",
       "p90                   34264.0                 3.0\n",
       "p95                   37760.1                 4.0\n",
       "p99                  44607.35                 6.0\n",
       "max                   48150.5                 8.0"
      ]
     },
     "execution_count": 587,
     "metadata": {},
     "output_type": "execute_result"
    }
   ],
   "source": [
    "numeric_audit=numeric_columns.apply( lambda x: continuous_var_summary(x))\n",
    "numeric_audit"
   ]
  },
  {
   "cell_type": "code",
   "execution_count": 588,
   "id": "a618b1ff",
   "metadata": {},
   "outputs": [
    {
     "data": {
      "text/html": [
       "<div>\n",
       "<style scoped>\n",
       "    .dataframe tbody tr th:only-of-type {\n",
       "        vertical-align: middle;\n",
       "    }\n",
       "\n",
       "    .dataframe tbody tr th {\n",
       "        vertical-align: top;\n",
       "    }\n",
       "\n",
       "    .dataframe thead th {\n",
       "        text-align: right;\n",
       "    }\n",
       "</style>\n",
       "<table border=\"1\" class=\"dataframe\">\n",
       "  <thead>\n",
       "    <tr style=\"text-align: right;\">\n",
       "      <th></th>\n",
       "      <th>claim_id</th>\n",
       "      <th>customer_id</th>\n",
       "      <th>incident_cause</th>\n",
       "      <th>claim_area</th>\n",
       "      <th>police_report</th>\n",
       "      <th>claim_type</th>\n",
       "      <th>fraudulent</th>\n",
       "      <th>CUST_ID</th>\n",
       "      <th>gender</th>\n",
       "      <th>State</th>\n",
       "      <th>Contact</th>\n",
       "      <th>Segment</th>\n",
       "    </tr>\n",
       "  </thead>\n",
       "  <tbody>\n",
       "    <tr>\n",
       "      <th>n</th>\n",
       "      <td>1100</td>\n",
       "      <td>1100</td>\n",
       "      <td>1100</td>\n",
       "      <td>1100</td>\n",
       "      <td>1100</td>\n",
       "      <td>1100</td>\n",
       "      <td>1100</td>\n",
       "      <td>1100</td>\n",
       "      <td>1085</td>\n",
       "      <td>1085</td>\n",
       "      <td>1085</td>\n",
       "      <td>1085</td>\n",
       "    </tr>\n",
       "    <tr>\n",
       "      <th>nmiss</th>\n",
       "      <td>0</td>\n",
       "      <td>0</td>\n",
       "      <td>0</td>\n",
       "      <td>0</td>\n",
       "      <td>0</td>\n",
       "      <td>0</td>\n",
       "      <td>0</td>\n",
       "      <td>0</td>\n",
       "      <td>15</td>\n",
       "      <td>15</td>\n",
       "      <td>15</td>\n",
       "      <td>15</td>\n",
       "    </tr>\n",
       "    <tr>\n",
       "      <th>MODE</th>\n",
       "      <td>54004764</td>\n",
       "      <td>85357756</td>\n",
       "      <td>Other causes</td>\n",
       "      <td>Auto</td>\n",
       "      <td>No</td>\n",
       "      <td>Material only</td>\n",
       "      <td>No</td>\n",
       "      <td>nan</td>\n",
       "      <td>Male</td>\n",
       "      <td>NY</td>\n",
       "      <td>743-569-4783</td>\n",
       "      <td>Gold</td>\n",
       "    </tr>\n",
       "    <tr>\n",
       "      <th>FREQ</th>\n",
       "      <td>1</td>\n",
       "      <td>2</td>\n",
       "      <td>290</td>\n",
       "      <td>985</td>\n",
       "      <td>630</td>\n",
       "      <td>663</td>\n",
       "      <td>846</td>\n",
       "      <td>15</td>\n",
       "      <td>556</td>\n",
       "      <td>31</td>\n",
       "      <td>2</td>\n",
       "      <td>375</td>\n",
       "    </tr>\n",
       "    <tr>\n",
       "      <th>PERCENT</th>\n",
       "      <td>0.09</td>\n",
       "      <td>0.18</td>\n",
       "      <td>26.36</td>\n",
       "      <td>89.55</td>\n",
       "      <td>57.27</td>\n",
       "      <td>60.27</td>\n",
       "      <td>76.91</td>\n",
       "      <td>1.36</td>\n",
       "      <td>51.24</td>\n",
       "      <td>2.86</td>\n",
       "      <td>0.18</td>\n",
       "      <td>34.56</td>\n",
       "    </tr>\n",
       "  </tbody>\n",
       "</table>\n",
       "</div>"
      ],
      "text/plain": [
       "         claim_id customer_id incident_cause claim_area police_report  \\\n",
       "n            1100        1100           1100       1100          1100   \n",
       "nmiss           0           0              0          0             0   \n",
       "MODE     54004764    85357756   Other causes       Auto            No   \n",
       "FREQ            1           2            290        985           630   \n",
       "PERCENT      0.09        0.18          26.36      89.55         57.27   \n",
       "\n",
       "            claim_type fraudulent CUST_ID gender State       Contact Segment  \n",
       "n                 1100       1100    1100   1085  1085          1085    1085  \n",
       "nmiss                0          0       0     15    15            15      15  \n",
       "MODE     Material only         No     nan   Male    NY  743-569-4783    Gold  \n",
       "FREQ               663        846      15    556    31             2     375  \n",
       "PERCENT          60.27      76.91    1.36  51.24  2.86          0.18   34.56  "
      ]
     },
     "execution_count": 588,
     "metadata": {},
     "output_type": "execute_result"
    }
   ],
   "source": [
    "numeric_audit=catagorial_cols.apply( lambda x: categorical_var_summary(x))\n",
    "numeric_audit"
   ]
  },
  {
   "cell_type": "code",
   "execution_count": 589,
   "id": "16f87309",
   "metadata": {},
   "outputs": [
    {
     "data": {
      "text/plain": [
       "'\\n3. Convert the column claim_amount to numeric. Use the appropriate\\nmodules/attributes to remove the $ sign.\\n'"
      ]
     },
     "execution_count": 589,
     "metadata": {},
     "output_type": "execute_result"
    }
   ],
   "source": [
    "'''\n",
    "3. Convert the column claim_amount to numeric. Use the appropriate\n",
    "modules/attributes to remove the $ sign.\n",
    "'''\n",
    "# already done in step 2"
   ]
  },
  {
   "cell_type": "code",
   "execution_count": 590,
   "id": "501415d5",
   "metadata": {},
   "outputs": [
    {
     "data": {
      "text/plain": [
       "'\\n4. Of all the injury claims, some of them have gone unreported with the\\npolice. Create an alert flag (1,0) for all such claims.\\n'"
      ]
     },
     "execution_count": 590,
     "metadata": {},
     "output_type": "execute_result"
    }
   ],
   "source": [
    "'''\n",
    "4. Of all the injury claims, some of them have gone unreported with the\n",
    "police. Create an alert flag (1,0) for all such claims.\n",
    "'''"
   ]
  },
  {
   "cell_type": "code",
   "execution_count": 591,
   "id": "620a662a",
   "metadata": {},
   "outputs": [
    {
     "data": {
      "text/html": [
       "<div>\n",
       "<style scoped>\n",
       "    .dataframe tbody tr th:only-of-type {\n",
       "        vertical-align: middle;\n",
       "    }\n",
       "\n",
       "    .dataframe tbody tr th {\n",
       "        vertical-align: top;\n",
       "    }\n",
       "\n",
       "    .dataframe thead th {\n",
       "        text-align: right;\n",
       "    }\n",
       "</style>\n",
       "<table border=\"1\" class=\"dataframe\">\n",
       "  <thead>\n",
       "    <tr style=\"text-align: right;\">\n",
       "      <th></th>\n",
       "      <th>claim_id</th>\n",
       "      <th>customer_id</th>\n",
       "      <th>incident_cause</th>\n",
       "      <th>claim_date</th>\n",
       "      <th>claim_area</th>\n",
       "      <th>police_report</th>\n",
       "      <th>claim_type</th>\n",
       "      <th>claim_amount</th>\n",
       "      <th>total_policy_claims</th>\n",
       "      <th>fraudulent</th>\n",
       "      <th>CUST_ID</th>\n",
       "      <th>gender</th>\n",
       "      <th>DateOfBirth</th>\n",
       "      <th>State</th>\n",
       "      <th>Contact</th>\n",
       "      <th>Segment</th>\n",
       "    </tr>\n",
       "  </thead>\n",
       "  <tbody>\n",
       "    <tr>\n",
       "      <th>0</th>\n",
       "      <td>54004764</td>\n",
       "      <td>21868593</td>\n",
       "      <td>Driver error</td>\n",
       "      <td>2017-11-27</td>\n",
       "      <td>Auto</td>\n",
       "      <td>No</td>\n",
       "      <td>Material only</td>\n",
       "      <td>2980.0</td>\n",
       "      <td>1.0</td>\n",
       "      <td>No</td>\n",
       "      <td>21868593.0</td>\n",
       "      <td>Female</td>\n",
       "      <td>1979-01-12</td>\n",
       "      <td>VT</td>\n",
       "      <td>789-916-8172</td>\n",
       "      <td>Platinum</td>\n",
       "    </tr>\n",
       "    <tr>\n",
       "      <th>1</th>\n",
       "      <td>33985796</td>\n",
       "      <td>75740424</td>\n",
       "      <td>Crime</td>\n",
       "      <td>2018-10-03</td>\n",
       "      <td>Home</td>\n",
       "      <td>Unknown</td>\n",
       "      <td>Material only</td>\n",
       "      <td>2980.0</td>\n",
       "      <td>3.0</td>\n",
       "      <td>No</td>\n",
       "      <td>75740424.0</td>\n",
       "      <td>Female</td>\n",
       "      <td>2070-01-13</td>\n",
       "      <td>ME</td>\n",
       "      <td>265-543-1264</td>\n",
       "      <td>Silver</td>\n",
       "    </tr>\n",
       "    <tr>\n",
       "      <th>2</th>\n",
       "      <td>53522022</td>\n",
       "      <td>30308357</td>\n",
       "      <td>Other driver error</td>\n",
       "      <td>2018-02-02</td>\n",
       "      <td>Auto</td>\n",
       "      <td>No</td>\n",
       "      <td>Material only</td>\n",
       "      <td>3369.5</td>\n",
       "      <td>1.0</td>\n",
       "      <td>Yes</td>\n",
       "      <td>30308357.0</td>\n",
       "      <td>Female</td>\n",
       "      <td>1984-03-11</td>\n",
       "      <td>TN</td>\n",
       "      <td>798-631-4758</td>\n",
       "      <td>Silver</td>\n",
       "    </tr>\n",
       "    <tr>\n",
       "      <th>3</th>\n",
       "      <td>13015401</td>\n",
       "      <td>47830476</td>\n",
       "      <td>Natural causes</td>\n",
       "      <td>2018-06-17</td>\n",
       "      <td>Auto</td>\n",
       "      <td>No</td>\n",
       "      <td>Material only</td>\n",
       "      <td>1680.0</td>\n",
       "      <td>1.0</td>\n",
       "      <td>No</td>\n",
       "      <td>47830476.0</td>\n",
       "      <td>Female</td>\n",
       "      <td>1986-05-01</td>\n",
       "      <td>MA</td>\n",
       "      <td>413-187-7945</td>\n",
       "      <td>Silver</td>\n",
       "    </tr>\n",
       "    <tr>\n",
       "      <th>4</th>\n",
       "      <td>22890252</td>\n",
       "      <td>19269962</td>\n",
       "      <td>Crime</td>\n",
       "      <td>2018-01-13</td>\n",
       "      <td>Auto</td>\n",
       "      <td>No</td>\n",
       "      <td>Material only</td>\n",
       "      <td>2680.0</td>\n",
       "      <td>1.0</td>\n",
       "      <td>No</td>\n",
       "      <td>19269962.0</td>\n",
       "      <td>Male</td>\n",
       "      <td>1977-05-13</td>\n",
       "      <td>NV</td>\n",
       "      <td>956-871-8691</td>\n",
       "      <td>Gold</td>\n",
       "    </tr>\n",
       "  </tbody>\n",
       "</table>\n",
       "</div>"
      ],
      "text/plain": [
       "   claim_id customer_id      incident_cause claim_date claim_area  \\\n",
       "0  54004764    21868593        Driver error 2017-11-27       Auto   \n",
       "1  33985796    75740424               Crime 2018-10-03       Home   \n",
       "2  53522022    30308357  Other driver error 2018-02-02       Auto   \n",
       "3  13015401    47830476      Natural causes 2018-06-17       Auto   \n",
       "4  22890252    19269962               Crime 2018-01-13       Auto   \n",
       "\n",
       "  police_report     claim_type  claim_amount  total_policy_claims fraudulent  \\\n",
       "0            No  Material only        2980.0                  1.0         No   \n",
       "1       Unknown  Material only        2980.0                  3.0         No   \n",
       "2            No  Material only        3369.5                  1.0        Yes   \n",
       "3            No  Material only        1680.0                  1.0         No   \n",
       "4            No  Material only        2680.0                  1.0         No   \n",
       "\n",
       "      CUST_ID  gender DateOfBirth State       Contact   Segment  \n",
       "0  21868593.0  Female  1979-01-12    VT  789-916-8172  Platinum  \n",
       "1  75740424.0  Female  2070-01-13    ME  265-543-1264    Silver  \n",
       "2  30308357.0  Female  1984-03-11    TN  798-631-4758    Silver  \n",
       "3  47830476.0  Female  1986-05-01    MA  413-187-7945    Silver  \n",
       "4  19269962.0    Male  1977-05-13    NV  956-871-8691      Gold  "
      ]
     },
     "execution_count": 591,
     "metadata": {},
     "output_type": "execute_result"
    }
   ],
   "source": [
    "merged_table.head()"
   ]
  },
  {
   "cell_type": "code",
   "execution_count": 592,
   "id": "6929de5e",
   "metadata": {},
   "outputs": [
    {
     "data": {
      "text/plain": [
       "No         630\n",
       "Unknown    300\n",
       "Yes        170\n",
       "Name: police_report, dtype: int64"
      ]
     },
     "execution_count": 592,
     "metadata": {},
     "output_type": "execute_result"
    }
   ],
   "source": [
    "merged_table.police_report.value_counts()"
   ]
  },
  {
   "cell_type": "code",
   "execution_count": 593,
   "id": "c9b4e62c",
   "metadata": {},
   "outputs": [
    {
     "data": {
      "text/plain": [
       "0        True\n",
       "1       False\n",
       "2        True\n",
       "3        True\n",
       "4        True\n",
       "        ...  \n",
       "1095     True\n",
       "1096     True\n",
       "1097     True\n",
       "1098    False\n",
       "1099    False\n",
       "Name: police_report, Length: 1100, dtype: bool"
      ]
     },
     "execution_count": 593,
     "metadata": {},
     "output_type": "execute_result"
    }
   ],
   "source": [
    "merged_table.police_report == 'No'"
   ]
  },
  {
   "cell_type": "code",
   "execution_count": 594,
   "id": "7e63a273",
   "metadata": {},
   "outputs": [],
   "source": [
    "merged_table['police_report_alert'] = np.where(merged_table.police_report == 'No' , 1, 0)"
   ]
  },
  {
   "cell_type": "code",
   "execution_count": 595,
   "id": "9360bc97",
   "metadata": {},
   "outputs": [
    {
     "data": {
      "text/html": [
       "<div>\n",
       "<style scoped>\n",
       "    .dataframe tbody tr th:only-of-type {\n",
       "        vertical-align: middle;\n",
       "    }\n",
       "\n",
       "    .dataframe tbody tr th {\n",
       "        vertical-align: top;\n",
       "    }\n",
       "\n",
       "    .dataframe thead th {\n",
       "        text-align: right;\n",
       "    }\n",
       "</style>\n",
       "<table border=\"1\" class=\"dataframe\">\n",
       "  <thead>\n",
       "    <tr style=\"text-align: right;\">\n",
       "      <th></th>\n",
       "      <th>claim_id</th>\n",
       "      <th>customer_id</th>\n",
       "      <th>incident_cause</th>\n",
       "      <th>claim_date</th>\n",
       "      <th>claim_area</th>\n",
       "      <th>police_report</th>\n",
       "      <th>claim_type</th>\n",
       "      <th>claim_amount</th>\n",
       "      <th>total_policy_claims</th>\n",
       "      <th>fraudulent</th>\n",
       "      <th>CUST_ID</th>\n",
       "      <th>gender</th>\n",
       "      <th>DateOfBirth</th>\n",
       "      <th>State</th>\n",
       "      <th>Contact</th>\n",
       "      <th>Segment</th>\n",
       "      <th>police_report_alert</th>\n",
       "    </tr>\n",
       "  </thead>\n",
       "  <tbody>\n",
       "    <tr>\n",
       "      <th>0</th>\n",
       "      <td>54004764</td>\n",
       "      <td>21868593</td>\n",
       "      <td>Driver error</td>\n",
       "      <td>2017-11-27</td>\n",
       "      <td>Auto</td>\n",
       "      <td>No</td>\n",
       "      <td>Material only</td>\n",
       "      <td>2980.0</td>\n",
       "      <td>1.0</td>\n",
       "      <td>No</td>\n",
       "      <td>21868593.0</td>\n",
       "      <td>Female</td>\n",
       "      <td>1979-01-12</td>\n",
       "      <td>VT</td>\n",
       "      <td>789-916-8172</td>\n",
       "      <td>Platinum</td>\n",
       "      <td>1</td>\n",
       "    </tr>\n",
       "    <tr>\n",
       "      <th>1</th>\n",
       "      <td>33985796</td>\n",
       "      <td>75740424</td>\n",
       "      <td>Crime</td>\n",
       "      <td>2018-10-03</td>\n",
       "      <td>Home</td>\n",
       "      <td>Unknown</td>\n",
       "      <td>Material only</td>\n",
       "      <td>2980.0</td>\n",
       "      <td>3.0</td>\n",
       "      <td>No</td>\n",
       "      <td>75740424.0</td>\n",
       "      <td>Female</td>\n",
       "      <td>2070-01-13</td>\n",
       "      <td>ME</td>\n",
       "      <td>265-543-1264</td>\n",
       "      <td>Silver</td>\n",
       "      <td>0</td>\n",
       "    </tr>\n",
       "    <tr>\n",
       "      <th>2</th>\n",
       "      <td>53522022</td>\n",
       "      <td>30308357</td>\n",
       "      <td>Other driver error</td>\n",
       "      <td>2018-02-02</td>\n",
       "      <td>Auto</td>\n",
       "      <td>No</td>\n",
       "      <td>Material only</td>\n",
       "      <td>3369.5</td>\n",
       "      <td>1.0</td>\n",
       "      <td>Yes</td>\n",
       "      <td>30308357.0</td>\n",
       "      <td>Female</td>\n",
       "      <td>1984-03-11</td>\n",
       "      <td>TN</td>\n",
       "      <td>798-631-4758</td>\n",
       "      <td>Silver</td>\n",
       "      <td>1</td>\n",
       "    </tr>\n",
       "    <tr>\n",
       "      <th>3</th>\n",
       "      <td>13015401</td>\n",
       "      <td>47830476</td>\n",
       "      <td>Natural causes</td>\n",
       "      <td>2018-06-17</td>\n",
       "      <td>Auto</td>\n",
       "      <td>No</td>\n",
       "      <td>Material only</td>\n",
       "      <td>1680.0</td>\n",
       "      <td>1.0</td>\n",
       "      <td>No</td>\n",
       "      <td>47830476.0</td>\n",
       "      <td>Female</td>\n",
       "      <td>1986-05-01</td>\n",
       "      <td>MA</td>\n",
       "      <td>413-187-7945</td>\n",
       "      <td>Silver</td>\n",
       "      <td>1</td>\n",
       "    </tr>\n",
       "    <tr>\n",
       "      <th>4</th>\n",
       "      <td>22890252</td>\n",
       "      <td>19269962</td>\n",
       "      <td>Crime</td>\n",
       "      <td>2018-01-13</td>\n",
       "      <td>Auto</td>\n",
       "      <td>No</td>\n",
       "      <td>Material only</td>\n",
       "      <td>2680.0</td>\n",
       "      <td>1.0</td>\n",
       "      <td>No</td>\n",
       "      <td>19269962.0</td>\n",
       "      <td>Male</td>\n",
       "      <td>1977-05-13</td>\n",
       "      <td>NV</td>\n",
       "      <td>956-871-8691</td>\n",
       "      <td>Gold</td>\n",
       "      <td>1</td>\n",
       "    </tr>\n",
       "  </tbody>\n",
       "</table>\n",
       "</div>"
      ],
      "text/plain": [
       "   claim_id customer_id      incident_cause claim_date claim_area  \\\n",
       "0  54004764    21868593        Driver error 2017-11-27       Auto   \n",
       "1  33985796    75740424               Crime 2018-10-03       Home   \n",
       "2  53522022    30308357  Other driver error 2018-02-02       Auto   \n",
       "3  13015401    47830476      Natural causes 2018-06-17       Auto   \n",
       "4  22890252    19269962               Crime 2018-01-13       Auto   \n",
       "\n",
       "  police_report     claim_type  claim_amount  total_policy_claims fraudulent  \\\n",
       "0            No  Material only        2980.0                  1.0         No   \n",
       "1       Unknown  Material only        2980.0                  3.0         No   \n",
       "2            No  Material only        3369.5                  1.0        Yes   \n",
       "3            No  Material only        1680.0                  1.0         No   \n",
       "4            No  Material only        2680.0                  1.0         No   \n",
       "\n",
       "      CUST_ID  gender DateOfBirth State       Contact   Segment  \\\n",
       "0  21868593.0  Female  1979-01-12    VT  789-916-8172  Platinum   \n",
       "1  75740424.0  Female  2070-01-13    ME  265-543-1264    Silver   \n",
       "2  30308357.0  Female  1984-03-11    TN  798-631-4758    Silver   \n",
       "3  47830476.0  Female  1986-05-01    MA  413-187-7945    Silver   \n",
       "4  19269962.0    Male  1977-05-13    NV  956-871-8691      Gold   \n",
       "\n",
       "   police_report_alert  \n",
       "0                    1  \n",
       "1                    0  \n",
       "2                    1  \n",
       "3                    1  \n",
       "4                    1  "
      ]
     },
     "execution_count": 595,
     "metadata": {},
     "output_type": "execute_result"
    }
   ],
   "source": [
    "merged_table.head()"
   ]
  },
  {
   "cell_type": "code",
   "execution_count": 596,
   "id": "c149c637",
   "metadata": {},
   "outputs": [
    {
     "data": {
      "text/plain": [
       "'\\n5. One customer can claim for insurance more than once and in each claim,\\nmultiple categories of claims can be involved. However, customer ID\\nshould remain unique.\\nRetain the most recent observation and delete any duplicated records in\\nthe data based on the customer ID column.\\n'"
      ]
     },
     "execution_count": 596,
     "metadata": {},
     "output_type": "execute_result"
    }
   ],
   "source": [
    "'''\n",
    "5. One customer can claim for insurance more than once and in each claim,\n",
    "multiple categories of claims can be involved. However, customer ID\n",
    "should remain unique.\n",
    "Retain the most recent observation and delete any duplicated records in\n",
    "the data based on the customer ID column.\n",
    "'''"
   ]
  },
  {
   "cell_type": "code",
   "execution_count": 597,
   "id": "71f9831b",
   "metadata": {},
   "outputs": [],
   "source": [
    "merged_table= merged_table.drop_duplicates(subset=\"customer_id\", keep= \"last\")"
   ]
  },
  {
   "cell_type": "code",
   "execution_count": 598,
   "id": "a5732c34",
   "metadata": {},
   "outputs": [
    {
     "data": {
      "text/html": [
       "<div>\n",
       "<style scoped>\n",
       "    .dataframe tbody tr th:only-of-type {\n",
       "        vertical-align: middle;\n",
       "    }\n",
       "\n",
       "    .dataframe tbody tr th {\n",
       "        vertical-align: top;\n",
       "    }\n",
       "\n",
       "    .dataframe thead th {\n",
       "        text-align: right;\n",
       "    }\n",
       "</style>\n",
       "<table border=\"1\" class=\"dataframe\">\n",
       "  <thead>\n",
       "    <tr style=\"text-align: right;\">\n",
       "      <th></th>\n",
       "      <th>claim_id</th>\n",
       "      <th>customer_id</th>\n",
       "      <th>incident_cause</th>\n",
       "      <th>claim_date</th>\n",
       "      <th>claim_area</th>\n",
       "      <th>police_report</th>\n",
       "      <th>claim_type</th>\n",
       "      <th>claim_amount</th>\n",
       "      <th>total_policy_claims</th>\n",
       "      <th>fraudulent</th>\n",
       "      <th>CUST_ID</th>\n",
       "      <th>gender</th>\n",
       "      <th>DateOfBirth</th>\n",
       "      <th>State</th>\n",
       "      <th>Contact</th>\n",
       "      <th>Segment</th>\n",
       "      <th>police_report_alert</th>\n",
       "    </tr>\n",
       "  </thead>\n",
       "  <tbody>\n",
       "    <tr>\n",
       "      <th>0</th>\n",
       "      <td>54004764</td>\n",
       "      <td>21868593</td>\n",
       "      <td>Driver error</td>\n",
       "      <td>2017-11-27</td>\n",
       "      <td>Auto</td>\n",
       "      <td>No</td>\n",
       "      <td>Material only</td>\n",
       "      <td>2980.0</td>\n",
       "      <td>1.0</td>\n",
       "      <td>No</td>\n",
       "      <td>21868593.0</td>\n",
       "      <td>Female</td>\n",
       "      <td>1979-01-12</td>\n",
       "      <td>VT</td>\n",
       "      <td>789-916-8172</td>\n",
       "      <td>Platinum</td>\n",
       "      <td>1</td>\n",
       "    </tr>\n",
       "    <tr>\n",
       "      <th>1</th>\n",
       "      <td>33985796</td>\n",
       "      <td>75740424</td>\n",
       "      <td>Crime</td>\n",
       "      <td>2018-10-03</td>\n",
       "      <td>Home</td>\n",
       "      <td>Unknown</td>\n",
       "      <td>Material only</td>\n",
       "      <td>2980.0</td>\n",
       "      <td>3.0</td>\n",
       "      <td>No</td>\n",
       "      <td>75740424.0</td>\n",
       "      <td>Female</td>\n",
       "      <td>2070-01-13</td>\n",
       "      <td>ME</td>\n",
       "      <td>265-543-1264</td>\n",
       "      <td>Silver</td>\n",
       "      <td>0</td>\n",
       "    </tr>\n",
       "    <tr>\n",
       "      <th>6</th>\n",
       "      <td>12878692</td>\n",
       "      <td>18401412</td>\n",
       "      <td>Driver error</td>\n",
       "      <td>2018-01-13</td>\n",
       "      <td>Auto</td>\n",
       "      <td>No</td>\n",
       "      <td>Material only</td>\n",
       "      <td>1730.0</td>\n",
       "      <td>4.0</td>\n",
       "      <td>No</td>\n",
       "      <td>18401412.0</td>\n",
       "      <td>Male</td>\n",
       "      <td>1999-03-02</td>\n",
       "      <td>AR</td>\n",
       "      <td>752-398-2914</td>\n",
       "      <td>Gold</td>\n",
       "      <td>1</td>\n",
       "    </tr>\n",
       "    <tr>\n",
       "      <th>7</th>\n",
       "      <td>27026412</td>\n",
       "      <td>73486606</td>\n",
       "      <td>Natural causes</td>\n",
       "      <td>2018-04-10</td>\n",
       "      <td>Auto</td>\n",
       "      <td>No</td>\n",
       "      <td>Material only</td>\n",
       "      <td>1160.0</td>\n",
       "      <td>3.0</td>\n",
       "      <td>No</td>\n",
       "      <td>73486606.0</td>\n",
       "      <td>Male</td>\n",
       "      <td>1999-10-25</td>\n",
       "      <td>AK</td>\n",
       "      <td>256-968-9172</td>\n",
       "      <td>Silver</td>\n",
       "      <td>1</td>\n",
       "    </tr>\n",
       "    <tr>\n",
       "      <th>8</th>\n",
       "      <td>43908336</td>\n",
       "      <td>32813689</td>\n",
       "      <td>Crime</td>\n",
       "      <td>2018-02-15</td>\n",
       "      <td>Auto</td>\n",
       "      <td>Unknown</td>\n",
       "      <td>Material only</td>\n",
       "      <td>2620.0</td>\n",
       "      <td>1.0</td>\n",
       "      <td>No</td>\n",
       "      <td>32813689.0</td>\n",
       "      <td>Male</td>\n",
       "      <td>1993-10-12</td>\n",
       "      <td>ID</td>\n",
       "      <td>142-324-7481</td>\n",
       "      <td>Silver</td>\n",
       "      <td>0</td>\n",
       "    </tr>\n",
       "  </tbody>\n",
       "</table>\n",
       "</div>"
      ],
      "text/plain": [
       "   claim_id customer_id  incident_cause claim_date claim_area police_report  \\\n",
       "0  54004764    21868593    Driver error 2017-11-27       Auto            No   \n",
       "1  33985796    75740424           Crime 2018-10-03       Home       Unknown   \n",
       "6  12878692    18401412    Driver error 2018-01-13       Auto            No   \n",
       "7  27026412    73486606  Natural causes 2018-04-10       Auto            No   \n",
       "8  43908336    32813689           Crime 2018-02-15       Auto       Unknown   \n",
       "\n",
       "      claim_type  claim_amount  total_policy_claims fraudulent     CUST_ID  \\\n",
       "0  Material only        2980.0                  1.0         No  21868593.0   \n",
       "1  Material only        2980.0                  3.0         No  75740424.0   \n",
       "6  Material only        1730.0                  4.0         No  18401412.0   \n",
       "7  Material only        1160.0                  3.0         No  73486606.0   \n",
       "8  Material only        2620.0                  1.0         No  32813689.0   \n",
       "\n",
       "   gender DateOfBirth State       Contact   Segment  police_report_alert  \n",
       "0  Female  1979-01-12    VT  789-916-8172  Platinum                    1  \n",
       "1  Female  2070-01-13    ME  265-543-1264    Silver                    0  \n",
       "6    Male  1999-03-02    AR  752-398-2914      Gold                    1  \n",
       "7    Male  1999-10-25    AK  256-968-9172    Silver                    1  \n",
       "8    Male  1993-10-12    ID  142-324-7481    Silver                    0  "
      ]
     },
     "execution_count": 598,
     "metadata": {},
     "output_type": "execute_result"
    }
   ],
   "source": [
    "merged_table.head()"
   ]
  },
  {
   "cell_type": "code",
   "execution_count": 599,
   "id": "0fb56aa3",
   "metadata": {},
   "outputs": [],
   "source": [
    "# 6. Check for missing values and impute the missing values with an\n",
    "# appropriate value. (mean for continuous and mode for categorical)"
   ]
  },
  {
   "cell_type": "code",
   "execution_count": 600,
   "id": "d3de28b7",
   "metadata": {},
   "outputs": [
    {
     "data": {
      "text/plain": [
       "claim_id                0\n",
       "customer_id             0\n",
       "incident_cause          0\n",
       "claim_date              0\n",
       "claim_area              0\n",
       "police_report           0\n",
       "claim_type              0\n",
       "claim_amount           65\n",
       "total_policy_claims    10\n",
       "fraudulent              0\n",
       "CUST_ID                 0\n",
       "gender                 15\n",
       "DateOfBirth            15\n",
       "State                  15\n",
       "Contact                15\n",
       "Segment                15\n",
       "police_report_alert     0\n",
       "dtype: int64"
      ]
     },
     "execution_count": 600,
     "metadata": {},
     "output_type": "execute_result"
    }
   ],
   "source": [
    "merged_table.isnull().sum()"
   ]
  },
  {
   "cell_type": "code",
   "execution_count": 601,
   "id": "ff2345b2",
   "metadata": {},
   "outputs": [
    {
     "data": {
      "text/plain": [
       "claim_id                       object\n",
       "customer_id                    object\n",
       "incident_cause                 object\n",
       "claim_date             datetime64[ns]\n",
       "claim_area                     object\n",
       "police_report                  object\n",
       "claim_type                     object\n",
       "claim_amount                  float64\n",
       "total_policy_claims           float64\n",
       "fraudulent                     object\n",
       "CUST_ID                        object\n",
       "gender                         object\n",
       "DateOfBirth            datetime64[ns]\n",
       "State                          object\n",
       "Contact                        object\n",
       "Segment                        object\n",
       "police_report_alert             int32\n",
       "dtype: object"
      ]
     },
     "execution_count": 601,
     "metadata": {},
     "output_type": "execute_result"
    }
   ],
   "source": [
    "merged_table.dtypes"
   ]
  },
  {
   "cell_type": "code",
   "execution_count": 602,
   "id": "74bd4b69",
   "metadata": {},
   "outputs": [
    {
     "data": {
      "text/html": [
       "<div>\n",
       "<style scoped>\n",
       "    .dataframe tbody tr th:only-of-type {\n",
       "        vertical-align: middle;\n",
       "    }\n",
       "\n",
       "    .dataframe tbody tr th {\n",
       "        vertical-align: top;\n",
       "    }\n",
       "\n",
       "    .dataframe thead th {\n",
       "        text-align: right;\n",
       "    }\n",
       "</style>\n",
       "<table border=\"1\" class=\"dataframe\">\n",
       "  <thead>\n",
       "    <tr style=\"text-align: right;\">\n",
       "      <th></th>\n",
       "      <th>claim_amount</th>\n",
       "      <th>total_policy_claims</th>\n",
       "      <th>police_report_alert</th>\n",
       "    </tr>\n",
       "  </thead>\n",
       "  <tbody>\n",
       "    <tr>\n",
       "      <th>0</th>\n",
       "      <td>2980.0</td>\n",
       "      <td>1.0</td>\n",
       "      <td>1</td>\n",
       "    </tr>\n",
       "    <tr>\n",
       "      <th>1</th>\n",
       "      <td>2980.0</td>\n",
       "      <td>3.0</td>\n",
       "      <td>0</td>\n",
       "    </tr>\n",
       "    <tr>\n",
       "      <th>6</th>\n",
       "      <td>1730.0</td>\n",
       "      <td>4.0</td>\n",
       "      <td>1</td>\n",
       "    </tr>\n",
       "    <tr>\n",
       "      <th>7</th>\n",
       "      <td>1160.0</td>\n",
       "      <td>3.0</td>\n",
       "      <td>1</td>\n",
       "    </tr>\n",
       "    <tr>\n",
       "      <th>8</th>\n",
       "      <td>2620.0</td>\n",
       "      <td>1.0</td>\n",
       "      <td>0</td>\n",
       "    </tr>\n",
       "    <tr>\n",
       "      <th>...</th>\n",
       "      <td>...</td>\n",
       "      <td>...</td>\n",
       "      <td>...</td>\n",
       "    </tr>\n",
       "    <tr>\n",
       "      <th>1095</th>\n",
       "      <td>3059.0</td>\n",
       "      <td>4.0</td>\n",
       "      <td>1</td>\n",
       "    </tr>\n",
       "    <tr>\n",
       "      <th>1096</th>\n",
       "      <td>1520.0</td>\n",
       "      <td>2.0</td>\n",
       "      <td>1</td>\n",
       "    </tr>\n",
       "    <tr>\n",
       "      <th>1097</th>\n",
       "      <td>23575.0</td>\n",
       "      <td>2.0</td>\n",
       "      <td>1</td>\n",
       "    </tr>\n",
       "    <tr>\n",
       "      <th>1098</th>\n",
       "      <td>25120.0</td>\n",
       "      <td>1.0</td>\n",
       "      <td>0</td>\n",
       "    </tr>\n",
       "    <tr>\n",
       "      <th>1099</th>\n",
       "      <td>36685.0</td>\n",
       "      <td>3.0</td>\n",
       "      <td>0</td>\n",
       "    </tr>\n",
       "  </tbody>\n",
       "</table>\n",
       "<p>1093 rows × 3 columns</p>\n",
       "</div>"
      ],
      "text/plain": [
       "      claim_amount  total_policy_claims  police_report_alert\n",
       "0           2980.0                  1.0                    1\n",
       "1           2980.0                  3.0                    0\n",
       "6           1730.0                  4.0                    1\n",
       "7           1160.0                  3.0                    1\n",
       "8           2620.0                  1.0                    0\n",
       "...            ...                  ...                  ...\n",
       "1095        3059.0                  4.0                    1\n",
       "1096        1520.0                  2.0                    1\n",
       "1097       23575.0                  2.0                    1\n",
       "1098       25120.0                  1.0                    0\n",
       "1099       36685.0                  3.0                    0\n",
       "\n",
       "[1093 rows x 3 columns]"
      ]
     },
     "execution_count": 602,
     "metadata": {},
     "output_type": "execute_result"
    }
   ],
   "source": [
    "merged_table.select_dtypes('number')"
   ]
  },
  {
   "cell_type": "code",
   "execution_count": 603,
   "id": "affaed79",
   "metadata": {},
   "outputs": [],
   "source": [
    "merged_table[\"claim_amount\"]= merged_table['claim_amount'].replace(np.NaN,merged_table['claim_amount'].mean())\n",
    "merged_table[\"total_policy_claims\"]= merged_table['total_policy_claims'].replace(np.NaN,merged_table['total_policy_claims'].mean())"
   ]
  },
  {
   "cell_type": "code",
   "execution_count": 604,
   "id": "66fbc531",
   "metadata": {},
   "outputs": [
    {
     "data": {
      "text/plain": [
       "0"
      ]
     },
     "execution_count": 604,
     "metadata": {},
     "output_type": "execute_result"
    }
   ],
   "source": [
    "merged_table[\"claim_amount\"].isna().sum()"
   ]
  },
  {
   "cell_type": "code",
   "execution_count": 605,
   "id": "317b4f34",
   "metadata": {},
   "outputs": [
    {
     "data": {
      "text/plain": [
       "0"
      ]
     },
     "execution_count": 605,
     "metadata": {},
     "output_type": "execute_result"
    }
   ],
   "source": [
    "merged_table[\"total_policy_claims\"].isna().sum()"
   ]
  },
  {
   "cell_type": "code",
   "execution_count": 606,
   "id": "3f9e9f96",
   "metadata": {},
   "outputs": [],
   "source": [
    "merged_table.gender = merged_table.gender.fillna(merged_table.gender.mode()[0])"
   ]
  },
  {
   "cell_type": "code",
   "execution_count": 607,
   "id": "04dedf1d",
   "metadata": {},
   "outputs": [
    {
     "data": {
      "text/plain": [
       "0"
      ]
     },
     "execution_count": 607,
     "metadata": {},
     "output_type": "execute_result"
    }
   ],
   "source": [
    "merged_table.gender.isnull().sum()"
   ]
  },
  {
   "cell_type": "code",
   "execution_count": 608,
   "id": "a8af43da",
   "metadata": {},
   "outputs": [],
   "source": [
    "merged_table.State = merged_table.State.fillna(merged_table.State.mode()[0])\n",
    "merged_table.Contact = merged_table.Contact.fillna(merged_table.Contact.mode()[0])\n",
    "merged_table.Segment = merged_table.Segment.fillna(merged_table.Segment.mode()[0])\n",
    "merged_table.DateOfBirth = merged_table.DateOfBirth.fillna(merged_table.DateOfBirth.mode()[0])"
   ]
  },
  {
   "cell_type": "code",
   "execution_count": 609,
   "id": "981f6880",
   "metadata": {},
   "outputs": [
    {
     "data": {
      "text/plain": [
       "claim_id               0\n",
       "customer_id            0\n",
       "incident_cause         0\n",
       "claim_date             0\n",
       "claim_area             0\n",
       "police_report          0\n",
       "claim_type             0\n",
       "claim_amount           0\n",
       "total_policy_claims    0\n",
       "fraudulent             0\n",
       "CUST_ID                0\n",
       "gender                 0\n",
       "DateOfBirth            0\n",
       "State                  0\n",
       "Contact                0\n",
       "Segment                0\n",
       "police_report_alert    0\n",
       "dtype: int64"
      ]
     },
     "execution_count": 609,
     "metadata": {},
     "output_type": "execute_result"
    }
   ],
   "source": [
    "merged_table.isnull().sum()"
   ]
  },
  {
   "cell_type": "code",
   "execution_count": 610,
   "id": "350f2070",
   "metadata": {},
   "outputs": [
    {
     "data": {
      "text/plain": [
       "'\\n7. Calculate the age of customers in years. Based on the age, categorize the\\ncustomers according to the below criteria\\nChildren < 18\\nYouth 18-30\\nAdult 30-60\\nSenior > 60\\n'"
      ]
     },
     "execution_count": 610,
     "metadata": {},
     "output_type": "execute_result"
    }
   ],
   "source": [
    "'''\n",
    "7. Calculate the age of customers in years. Based on the age, categorize the\n",
    "customers according to the below criteria\n",
    "Children < 18\n",
    "Youth 18-30\n",
    "Adult 30-60\n",
    "Senior > 60\n",
    "'''"
   ]
  },
  {
   "cell_type": "code",
   "execution_count": 611,
   "id": "0104cf78",
   "metadata": {},
   "outputs": [
    {
     "data": {
      "text/plain": [
       "0   1979-01-12\n",
       "1   2070-01-13\n",
       "6   1999-03-02\n",
       "7   1999-10-25\n",
       "8   1993-10-12\n",
       "Name: DateOfBirth, dtype: datetime64[ns]"
      ]
     },
     "execution_count": 611,
     "metadata": {},
     "output_type": "execute_result"
    }
   ],
   "source": [
    "merged_table.DateOfBirth.head()"
   ]
  },
  {
   "cell_type": "code",
   "execution_count": 612,
   "id": "be87e1cc",
   "metadata": {},
   "outputs": [],
   "source": [
    "now = dt.datetime.now().year"
   ]
  },
  {
   "cell_type": "code",
   "execution_count": 613,
   "id": "9ee6444f",
   "metadata": {},
   "outputs": [
    {
     "data": {
      "text/plain": [
       "2023"
      ]
     },
     "execution_count": 613,
     "metadata": {},
     "output_type": "execute_result"
    }
   ],
   "source": [
    "now"
   ]
  },
  {
   "cell_type": "code",
   "execution_count": 614,
   "id": "4dd8badc",
   "metadata": {},
   "outputs": [],
   "source": [
    "dob_year = pd.to_datetime(merged_table['DateOfBirth']).dt.year          #extract year from DateOfBirth"
   ]
  },
  {
   "cell_type": "code",
   "execution_count": 615,
   "id": "0e13d20a",
   "metadata": {},
   "outputs": [
    {
     "data": {
      "text/plain": [
       "0       1979\n",
       "1       2070\n",
       "6       1999\n",
       "7       1999\n",
       "8       1993\n",
       "        ... \n",
       "1095    1973\n",
       "1096    1973\n",
       "1097    1973\n",
       "1098    1973\n",
       "1099    1973\n",
       "Name: DateOfBirth, Length: 1093, dtype: int64"
      ]
     },
     "execution_count": 615,
     "metadata": {},
     "output_type": "execute_result"
    }
   ],
   "source": [
    "dob_year"
   ]
  },
  {
   "cell_type": "code",
   "execution_count": 616,
   "id": "dc44a0ee",
   "metadata": {},
   "outputs": [],
   "source": [
    "x = dob_year-100                                               # for the years which belongs to 60's\n",
    "v = now - x\n",
    "y = now - dob_year\n",
    "merged_table['age'] = (np.where(dob_year > now,v,y))"
   ]
  },
  {
   "cell_type": "code",
   "execution_count": 617,
   "id": "c3781d15",
   "metadata": {},
   "outputs": [
    {
     "data": {
      "text/html": [
       "<div>\n",
       "<style scoped>\n",
       "    .dataframe tbody tr th:only-of-type {\n",
       "        vertical-align: middle;\n",
       "    }\n",
       "\n",
       "    .dataframe tbody tr th {\n",
       "        vertical-align: top;\n",
       "    }\n",
       "\n",
       "    .dataframe thead th {\n",
       "        text-align: right;\n",
       "    }\n",
       "</style>\n",
       "<table border=\"1\" class=\"dataframe\">\n",
       "  <thead>\n",
       "    <tr style=\"text-align: right;\">\n",
       "      <th></th>\n",
       "      <th>claim_id</th>\n",
       "      <th>customer_id</th>\n",
       "      <th>incident_cause</th>\n",
       "      <th>claim_date</th>\n",
       "      <th>claim_area</th>\n",
       "      <th>police_report</th>\n",
       "      <th>claim_type</th>\n",
       "      <th>claim_amount</th>\n",
       "      <th>total_policy_claims</th>\n",
       "      <th>fraudulent</th>\n",
       "      <th>CUST_ID</th>\n",
       "      <th>gender</th>\n",
       "      <th>DateOfBirth</th>\n",
       "      <th>State</th>\n",
       "      <th>Contact</th>\n",
       "      <th>Segment</th>\n",
       "      <th>police_report_alert</th>\n",
       "      <th>age</th>\n",
       "    </tr>\n",
       "  </thead>\n",
       "  <tbody>\n",
       "    <tr>\n",
       "      <th>0</th>\n",
       "      <td>54004764</td>\n",
       "      <td>21868593</td>\n",
       "      <td>Driver error</td>\n",
       "      <td>2017-11-27</td>\n",
       "      <td>Auto</td>\n",
       "      <td>No</td>\n",
       "      <td>Material only</td>\n",
       "      <td>2980.0</td>\n",
       "      <td>1.0</td>\n",
       "      <td>No</td>\n",
       "      <td>21868593.0</td>\n",
       "      <td>Female</td>\n",
       "      <td>1979-01-12</td>\n",
       "      <td>VT</td>\n",
       "      <td>789-916-8172</td>\n",
       "      <td>Platinum</td>\n",
       "      <td>1</td>\n",
       "      <td>44</td>\n",
       "    </tr>\n",
       "    <tr>\n",
       "      <th>1</th>\n",
       "      <td>33985796</td>\n",
       "      <td>75740424</td>\n",
       "      <td>Crime</td>\n",
       "      <td>2018-10-03</td>\n",
       "      <td>Home</td>\n",
       "      <td>Unknown</td>\n",
       "      <td>Material only</td>\n",
       "      <td>2980.0</td>\n",
       "      <td>3.0</td>\n",
       "      <td>No</td>\n",
       "      <td>75740424.0</td>\n",
       "      <td>Female</td>\n",
       "      <td>2070-01-13</td>\n",
       "      <td>ME</td>\n",
       "      <td>265-543-1264</td>\n",
       "      <td>Silver</td>\n",
       "      <td>0</td>\n",
       "      <td>53</td>\n",
       "    </tr>\n",
       "    <tr>\n",
       "      <th>6</th>\n",
       "      <td>12878692</td>\n",
       "      <td>18401412</td>\n",
       "      <td>Driver error</td>\n",
       "      <td>2018-01-13</td>\n",
       "      <td>Auto</td>\n",
       "      <td>No</td>\n",
       "      <td>Material only</td>\n",
       "      <td>1730.0</td>\n",
       "      <td>4.0</td>\n",
       "      <td>No</td>\n",
       "      <td>18401412.0</td>\n",
       "      <td>Male</td>\n",
       "      <td>1999-03-02</td>\n",
       "      <td>AR</td>\n",
       "      <td>752-398-2914</td>\n",
       "      <td>Gold</td>\n",
       "      <td>1</td>\n",
       "      <td>24</td>\n",
       "    </tr>\n",
       "    <tr>\n",
       "      <th>7</th>\n",
       "      <td>27026412</td>\n",
       "      <td>73486606</td>\n",
       "      <td>Natural causes</td>\n",
       "      <td>2018-04-10</td>\n",
       "      <td>Auto</td>\n",
       "      <td>No</td>\n",
       "      <td>Material only</td>\n",
       "      <td>1160.0</td>\n",
       "      <td>3.0</td>\n",
       "      <td>No</td>\n",
       "      <td>73486606.0</td>\n",
       "      <td>Male</td>\n",
       "      <td>1999-10-25</td>\n",
       "      <td>AK</td>\n",
       "      <td>256-968-9172</td>\n",
       "      <td>Silver</td>\n",
       "      <td>1</td>\n",
       "      <td>24</td>\n",
       "    </tr>\n",
       "    <tr>\n",
       "      <th>8</th>\n",
       "      <td>43908336</td>\n",
       "      <td>32813689</td>\n",
       "      <td>Crime</td>\n",
       "      <td>2018-02-15</td>\n",
       "      <td>Auto</td>\n",
       "      <td>Unknown</td>\n",
       "      <td>Material only</td>\n",
       "      <td>2620.0</td>\n",
       "      <td>1.0</td>\n",
       "      <td>No</td>\n",
       "      <td>32813689.0</td>\n",
       "      <td>Male</td>\n",
       "      <td>1993-10-12</td>\n",
       "      <td>ID</td>\n",
       "      <td>142-324-7481</td>\n",
       "      <td>Silver</td>\n",
       "      <td>0</td>\n",
       "      <td>30</td>\n",
       "    </tr>\n",
       "  </tbody>\n",
       "</table>\n",
       "</div>"
      ],
      "text/plain": [
       "   claim_id customer_id  incident_cause claim_date claim_area police_report  \\\n",
       "0  54004764    21868593    Driver error 2017-11-27       Auto            No   \n",
       "1  33985796    75740424           Crime 2018-10-03       Home       Unknown   \n",
       "6  12878692    18401412    Driver error 2018-01-13       Auto            No   \n",
       "7  27026412    73486606  Natural causes 2018-04-10       Auto            No   \n",
       "8  43908336    32813689           Crime 2018-02-15       Auto       Unknown   \n",
       "\n",
       "      claim_type  claim_amount  total_policy_claims fraudulent     CUST_ID  \\\n",
       "0  Material only        2980.0                  1.0         No  21868593.0   \n",
       "1  Material only        2980.0                  3.0         No  75740424.0   \n",
       "6  Material only        1730.0                  4.0         No  18401412.0   \n",
       "7  Material only        1160.0                  3.0         No  73486606.0   \n",
       "8  Material only        2620.0                  1.0         No  32813689.0   \n",
       "\n",
       "   gender DateOfBirth State       Contact   Segment  police_report_alert  age  \n",
       "0  Female  1979-01-12    VT  789-916-8172  Platinum                    1   44  \n",
       "1  Female  2070-01-13    ME  265-543-1264    Silver                    0   53  \n",
       "6    Male  1999-03-02    AR  752-398-2914      Gold                    1   24  \n",
       "7    Male  1999-10-25    AK  256-968-9172    Silver                    1   24  \n",
       "8    Male  1993-10-12    ID  142-324-7481    Silver                    0   30  "
      ]
     },
     "execution_count": 617,
     "metadata": {},
     "output_type": "execute_result"
    }
   ],
   "source": [
    "merged_table.head()"
   ]
  },
  {
   "cell_type": "code",
   "execution_count": 618,
   "id": "951ec687",
   "metadata": {},
   "outputs": [],
   "source": [
    "merged_table['age_group'] = pd.cut(merged_table['age'], bins=[0, 18, 30, 60, 100], labels=['Children', 'Youth', 'Adult', 'Senior'])\n"
   ]
  },
  {
   "cell_type": "code",
   "execution_count": 619,
   "id": "f1393877",
   "metadata": {
    "scrolled": true
   },
   "outputs": [
    {
     "data": {
      "text/html": [
       "<div>\n",
       "<style scoped>\n",
       "    .dataframe tbody tr th:only-of-type {\n",
       "        vertical-align: middle;\n",
       "    }\n",
       "\n",
       "    .dataframe tbody tr th {\n",
       "        vertical-align: top;\n",
       "    }\n",
       "\n",
       "    .dataframe thead th {\n",
       "        text-align: right;\n",
       "    }\n",
       "</style>\n",
       "<table border=\"1\" class=\"dataframe\">\n",
       "  <thead>\n",
       "    <tr style=\"text-align: right;\">\n",
       "      <th></th>\n",
       "      <th>claim_id</th>\n",
       "      <th>customer_id</th>\n",
       "      <th>incident_cause</th>\n",
       "      <th>claim_date</th>\n",
       "      <th>claim_area</th>\n",
       "      <th>police_report</th>\n",
       "      <th>claim_type</th>\n",
       "      <th>claim_amount</th>\n",
       "      <th>total_policy_claims</th>\n",
       "      <th>fraudulent</th>\n",
       "      <th>CUST_ID</th>\n",
       "      <th>gender</th>\n",
       "      <th>DateOfBirth</th>\n",
       "      <th>State</th>\n",
       "      <th>Contact</th>\n",
       "      <th>Segment</th>\n",
       "      <th>police_report_alert</th>\n",
       "      <th>age</th>\n",
       "      <th>age_group</th>\n",
       "    </tr>\n",
       "  </thead>\n",
       "  <tbody>\n",
       "    <tr>\n",
       "      <th>0</th>\n",
       "      <td>54004764</td>\n",
       "      <td>21868593</td>\n",
       "      <td>Driver error</td>\n",
       "      <td>2017-11-27</td>\n",
       "      <td>Auto</td>\n",
       "      <td>No</td>\n",
       "      <td>Material only</td>\n",
       "      <td>2980.0</td>\n",
       "      <td>1.0</td>\n",
       "      <td>No</td>\n",
       "      <td>21868593.0</td>\n",
       "      <td>Female</td>\n",
       "      <td>1979-01-12</td>\n",
       "      <td>VT</td>\n",
       "      <td>789-916-8172</td>\n",
       "      <td>Platinum</td>\n",
       "      <td>1</td>\n",
       "      <td>44</td>\n",
       "      <td>Adult</td>\n",
       "    </tr>\n",
       "    <tr>\n",
       "      <th>1</th>\n",
       "      <td>33985796</td>\n",
       "      <td>75740424</td>\n",
       "      <td>Crime</td>\n",
       "      <td>2018-10-03</td>\n",
       "      <td>Home</td>\n",
       "      <td>Unknown</td>\n",
       "      <td>Material only</td>\n",
       "      <td>2980.0</td>\n",
       "      <td>3.0</td>\n",
       "      <td>No</td>\n",
       "      <td>75740424.0</td>\n",
       "      <td>Female</td>\n",
       "      <td>2070-01-13</td>\n",
       "      <td>ME</td>\n",
       "      <td>265-543-1264</td>\n",
       "      <td>Silver</td>\n",
       "      <td>0</td>\n",
       "      <td>53</td>\n",
       "      <td>Adult</td>\n",
       "    </tr>\n",
       "    <tr>\n",
       "      <th>6</th>\n",
       "      <td>12878692</td>\n",
       "      <td>18401412</td>\n",
       "      <td>Driver error</td>\n",
       "      <td>2018-01-13</td>\n",
       "      <td>Auto</td>\n",
       "      <td>No</td>\n",
       "      <td>Material only</td>\n",
       "      <td>1730.0</td>\n",
       "      <td>4.0</td>\n",
       "      <td>No</td>\n",
       "      <td>18401412.0</td>\n",
       "      <td>Male</td>\n",
       "      <td>1999-03-02</td>\n",
       "      <td>AR</td>\n",
       "      <td>752-398-2914</td>\n",
       "      <td>Gold</td>\n",
       "      <td>1</td>\n",
       "      <td>24</td>\n",
       "      <td>Youth</td>\n",
       "    </tr>\n",
       "    <tr>\n",
       "      <th>7</th>\n",
       "      <td>27026412</td>\n",
       "      <td>73486606</td>\n",
       "      <td>Natural causes</td>\n",
       "      <td>2018-04-10</td>\n",
       "      <td>Auto</td>\n",
       "      <td>No</td>\n",
       "      <td>Material only</td>\n",
       "      <td>1160.0</td>\n",
       "      <td>3.0</td>\n",
       "      <td>No</td>\n",
       "      <td>73486606.0</td>\n",
       "      <td>Male</td>\n",
       "      <td>1999-10-25</td>\n",
       "      <td>AK</td>\n",
       "      <td>256-968-9172</td>\n",
       "      <td>Silver</td>\n",
       "      <td>1</td>\n",
       "      <td>24</td>\n",
       "      <td>Youth</td>\n",
       "    </tr>\n",
       "    <tr>\n",
       "      <th>8</th>\n",
       "      <td>43908336</td>\n",
       "      <td>32813689</td>\n",
       "      <td>Crime</td>\n",
       "      <td>2018-02-15</td>\n",
       "      <td>Auto</td>\n",
       "      <td>Unknown</td>\n",
       "      <td>Material only</td>\n",
       "      <td>2620.0</td>\n",
       "      <td>1.0</td>\n",
       "      <td>No</td>\n",
       "      <td>32813689.0</td>\n",
       "      <td>Male</td>\n",
       "      <td>1993-10-12</td>\n",
       "      <td>ID</td>\n",
       "      <td>142-324-7481</td>\n",
       "      <td>Silver</td>\n",
       "      <td>0</td>\n",
       "      <td>30</td>\n",
       "      <td>Youth</td>\n",
       "    </tr>\n",
       "    <tr>\n",
       "      <th>...</th>\n",
       "      <td>...</td>\n",
       "      <td>...</td>\n",
       "      <td>...</td>\n",
       "      <td>...</td>\n",
       "      <td>...</td>\n",
       "      <td>...</td>\n",
       "      <td>...</td>\n",
       "      <td>...</td>\n",
       "      <td>...</td>\n",
       "      <td>...</td>\n",
       "      <td>...</td>\n",
       "      <td>...</td>\n",
       "      <td>...</td>\n",
       "      <td>...</td>\n",
       "      <td>...</td>\n",
       "      <td>...</td>\n",
       "      <td>...</td>\n",
       "      <td>...</td>\n",
       "      <td>...</td>\n",
       "    </tr>\n",
       "    <tr>\n",
       "      <th>1095</th>\n",
       "      <td>97727122</td>\n",
       "      <td>35951012</td>\n",
       "      <td>Other driver error</td>\n",
       "      <td>2017-06-11</td>\n",
       "      <td>Auto</td>\n",
       "      <td>No</td>\n",
       "      <td>Material only</td>\n",
       "      <td>3059.0</td>\n",
       "      <td>4.0</td>\n",
       "      <td>Yes</td>\n",
       "      <td>nan</td>\n",
       "      <td>Male</td>\n",
       "      <td>1973-02-28</td>\n",
       "      <td>NY</td>\n",
       "      <td>123-346-2854</td>\n",
       "      <td>Gold</td>\n",
       "      <td>1</td>\n",
       "      <td>50</td>\n",
       "      <td>Adult</td>\n",
       "    </tr>\n",
       "    <tr>\n",
       "      <th>1096</th>\n",
       "      <td>10247193</td>\n",
       "      <td>14818669</td>\n",
       "      <td>Natural causes</td>\n",
       "      <td>2018-03-14</td>\n",
       "      <td>Auto</td>\n",
       "      <td>No</td>\n",
       "      <td>Material only</td>\n",
       "      <td>1520.0</td>\n",
       "      <td>2.0</td>\n",
       "      <td>No</td>\n",
       "      <td>nan</td>\n",
       "      <td>Male</td>\n",
       "      <td>1973-02-28</td>\n",
       "      <td>NY</td>\n",
       "      <td>123-346-2854</td>\n",
       "      <td>Gold</td>\n",
       "      <td>1</td>\n",
       "      <td>50</td>\n",
       "      <td>Adult</td>\n",
       "    </tr>\n",
       "    <tr>\n",
       "      <th>1097</th>\n",
       "      <td>79807493</td>\n",
       "      <td>85322831</td>\n",
       "      <td>Other driver error</td>\n",
       "      <td>2018-02-09</td>\n",
       "      <td>Auto</td>\n",
       "      <td>No</td>\n",
       "      <td>Material and injury</td>\n",
       "      <td>23575.0</td>\n",
       "      <td>2.0</td>\n",
       "      <td>Yes</td>\n",
       "      <td>nan</td>\n",
       "      <td>Male</td>\n",
       "      <td>1973-02-28</td>\n",
       "      <td>NY</td>\n",
       "      <td>123-346-2854</td>\n",
       "      <td>Gold</td>\n",
       "      <td>1</td>\n",
       "      <td>50</td>\n",
       "      <td>Adult</td>\n",
       "    </tr>\n",
       "    <tr>\n",
       "      <th>1098</th>\n",
       "      <td>69299345</td>\n",
       "      <td>73449366</td>\n",
       "      <td>Other causes</td>\n",
       "      <td>2018-03-21</td>\n",
       "      <td>Auto</td>\n",
       "      <td>Unknown</td>\n",
       "      <td>Material and injury</td>\n",
       "      <td>25120.0</td>\n",
       "      <td>1.0</td>\n",
       "      <td>No</td>\n",
       "      <td>nan</td>\n",
       "      <td>Male</td>\n",
       "      <td>1973-02-28</td>\n",
       "      <td>NY</td>\n",
       "      <td>123-346-2854</td>\n",
       "      <td>Gold</td>\n",
       "      <td>0</td>\n",
       "      <td>50</td>\n",
       "      <td>Adult</td>\n",
       "    </tr>\n",
       "    <tr>\n",
       "      <th>1099</th>\n",
       "      <td>58809728</td>\n",
       "      <td>43020876</td>\n",
       "      <td>Other driver error</td>\n",
       "      <td>2017-06-04</td>\n",
       "      <td>Auto</td>\n",
       "      <td>Yes</td>\n",
       "      <td>Material and injury</td>\n",
       "      <td>36685.0</td>\n",
       "      <td>3.0</td>\n",
       "      <td>Yes</td>\n",
       "      <td>nan</td>\n",
       "      <td>Male</td>\n",
       "      <td>1973-02-28</td>\n",
       "      <td>NY</td>\n",
       "      <td>123-346-2854</td>\n",
       "      <td>Gold</td>\n",
       "      <td>0</td>\n",
       "      <td>50</td>\n",
       "      <td>Adult</td>\n",
       "    </tr>\n",
       "  </tbody>\n",
       "</table>\n",
       "<p>1093 rows × 19 columns</p>\n",
       "</div>"
      ],
      "text/plain": [
       "      claim_id customer_id      incident_cause claim_date claim_area  \\\n",
       "0     54004764    21868593        Driver error 2017-11-27       Auto   \n",
       "1     33985796    75740424               Crime 2018-10-03       Home   \n",
       "6     12878692    18401412        Driver error 2018-01-13       Auto   \n",
       "7     27026412    73486606      Natural causes 2018-04-10       Auto   \n",
       "8     43908336    32813689               Crime 2018-02-15       Auto   \n",
       "...        ...         ...                 ...        ...        ...   \n",
       "1095  97727122    35951012  Other driver error 2017-06-11       Auto   \n",
       "1096  10247193    14818669      Natural causes 2018-03-14       Auto   \n",
       "1097  79807493    85322831  Other driver error 2018-02-09       Auto   \n",
       "1098  69299345    73449366        Other causes 2018-03-21       Auto   \n",
       "1099  58809728    43020876  Other driver error 2017-06-04       Auto   \n",
       "\n",
       "     police_report           claim_type  claim_amount  total_policy_claims  \\\n",
       "0               No        Material only        2980.0                  1.0   \n",
       "1          Unknown        Material only        2980.0                  3.0   \n",
       "6               No        Material only        1730.0                  4.0   \n",
       "7               No        Material only        1160.0                  3.0   \n",
       "8          Unknown        Material only        2620.0                  1.0   \n",
       "...            ...                  ...           ...                  ...   \n",
       "1095            No        Material only        3059.0                  4.0   \n",
       "1096            No        Material only        1520.0                  2.0   \n",
       "1097            No  Material and injury       23575.0                  2.0   \n",
       "1098       Unknown  Material and injury       25120.0                  1.0   \n",
       "1099           Yes  Material and injury       36685.0                  3.0   \n",
       "\n",
       "     fraudulent     CUST_ID  gender DateOfBirth State       Contact   Segment  \\\n",
       "0            No  21868593.0  Female  1979-01-12    VT  789-916-8172  Platinum   \n",
       "1            No  75740424.0  Female  2070-01-13    ME  265-543-1264    Silver   \n",
       "6            No  18401412.0    Male  1999-03-02    AR  752-398-2914      Gold   \n",
       "7            No  73486606.0    Male  1999-10-25    AK  256-968-9172    Silver   \n",
       "8            No  32813689.0    Male  1993-10-12    ID  142-324-7481    Silver   \n",
       "...         ...         ...     ...         ...   ...           ...       ...   \n",
       "1095        Yes         nan    Male  1973-02-28    NY  123-346-2854      Gold   \n",
       "1096         No         nan    Male  1973-02-28    NY  123-346-2854      Gold   \n",
       "1097        Yes         nan    Male  1973-02-28    NY  123-346-2854      Gold   \n",
       "1098         No         nan    Male  1973-02-28    NY  123-346-2854      Gold   \n",
       "1099        Yes         nan    Male  1973-02-28    NY  123-346-2854      Gold   \n",
       "\n",
       "      police_report_alert  age age_group  \n",
       "0                       1   44     Adult  \n",
       "1                       0   53     Adult  \n",
       "6                       1   24     Youth  \n",
       "7                       1   24     Youth  \n",
       "8                       0   30     Youth  \n",
       "...                   ...  ...       ...  \n",
       "1095                    1   50     Adult  \n",
       "1096                    1   50     Adult  \n",
       "1097                    1   50     Adult  \n",
       "1098                    0   50     Adult  \n",
       "1099                    0   50     Adult  \n",
       "\n",
       "[1093 rows x 19 columns]"
      ]
     },
     "execution_count": 619,
     "metadata": {},
     "output_type": "execute_result"
    }
   ],
   "source": [
    "merged_table"
   ]
  },
  {
   "cell_type": "code",
   "execution_count": 620,
   "id": "5b959db6",
   "metadata": {},
   "outputs": [
    {
     "data": {
      "text/plain": [
       "Adult       810\n",
       "Youth       208\n",
       "Senior       75\n",
       "Children      0\n",
       "Name: age_group, dtype: int64"
      ]
     },
     "execution_count": 620,
     "metadata": {},
     "output_type": "execute_result"
    }
   ],
   "source": [
    "merged_table.age_group.value_counts()"
   ]
  },
  {
   "cell_type": "code",
   "execution_count": 621,
   "id": "a429494c",
   "metadata": {},
   "outputs": [],
   "source": [
    "# 8. What is the average amount claimed by the customers from various segments?"
   ]
  },
  {
   "cell_type": "code",
   "execution_count": 622,
   "id": "465e4288",
   "metadata": {},
   "outputs": [
    {
     "data": {
      "text/html": [
       "<div>\n",
       "<style scoped>\n",
       "    .dataframe tbody tr th:only-of-type {\n",
       "        vertical-align: middle;\n",
       "    }\n",
       "\n",
       "    .dataframe tbody tr th {\n",
       "        vertical-align: top;\n",
       "    }\n",
       "\n",
       "    .dataframe thead th {\n",
       "        text-align: right;\n",
       "    }\n",
       "</style>\n",
       "<table border=\"1\" class=\"dataframe\">\n",
       "  <thead>\n",
       "    <tr style=\"text-align: right;\">\n",
       "      <th></th>\n",
       "      <th>average_amount</th>\n",
       "    </tr>\n",
       "    <tr>\n",
       "      <th>Segment</th>\n",
       "      <th></th>\n",
       "    </tr>\n",
       "  </thead>\n",
       "  <tbody>\n",
       "    <tr>\n",
       "      <th>Gold</th>\n",
       "      <td>12761.649879</td>\n",
       "    </tr>\n",
       "    <tr>\n",
       "      <th>Platinum</th>\n",
       "      <td>12370.555376</td>\n",
       "    </tr>\n",
       "    <tr>\n",
       "      <th>Silver</th>\n",
       "      <td>12265.024420</td>\n",
       "    </tr>\n",
       "  </tbody>\n",
       "</table>\n",
       "</div>"
      ],
      "text/plain": [
       "          average_amount\n",
       "Segment                 \n",
       "Gold        12761.649879\n",
       "Platinum    12370.555376\n",
       "Silver      12265.024420"
      ]
     },
     "execution_count": 622,
     "metadata": {},
     "output_type": "execute_result"
    }
   ],
   "source": [
    "merged_table.groupby(by = 'Segment').agg(average_amount = ('claim_amount', np.average))"
   ]
  },
  {
   "cell_type": "code",
   "execution_count": 623,
   "id": "29d1618e",
   "metadata": {},
   "outputs": [],
   "source": [
    "# 9. What is the total claim amount based on incident cause for all the claims that have been done at\n",
    "#  least 20 days prior to 1st of October, 2018."
   ]
  },
  {
   "cell_type": "code",
   "execution_count": 624,
   "id": "cfec39c6",
   "metadata": {},
   "outputs": [
    {
     "data": {
      "text/plain": [
       "incident_cause\n",
       "total_Crime                  726958.33\n",
       "total_Driver error          3344543.19\n",
       "total_Natural causes        1315058.89\n",
       "total_Other causes          3778019.05\n",
       "total_Other driver error    3342799.96\n",
       "Name: claim_amount, dtype: float64"
      ]
     },
     "execution_count": 624,
     "metadata": {},
     "output_type": "execute_result"
    }
   ],
   "source": [
    "Amount_incedent= round(merged_table.loc[merged_table.claim_date < \"2018-09-10\",:].groupby(\"incident_cause\")[\"claim_amount\"].sum().add_prefix(\"total_\"),2)\n",
    "Amount_incedent"
   ]
  },
  {
   "cell_type": "code",
   "execution_count": 625,
   "id": "d8319481",
   "metadata": {},
   "outputs": [],
   "source": [
    "# 10. How many adults from TX, DE and AK claimed insurance for driver\n",
    "# related issues and causes?"
   ]
  },
  {
   "cell_type": "code",
   "execution_count": 626,
   "id": "9c89b0e7",
   "metadata": {},
   "outputs": [
    {
     "data": {
      "text/html": [
       "<div>\n",
       "<style scoped>\n",
       "    .dataframe tbody tr th:only-of-type {\n",
       "        vertical-align: middle;\n",
       "    }\n",
       "\n",
       "    .dataframe tbody tr th {\n",
       "        vertical-align: top;\n",
       "    }\n",
       "\n",
       "    .dataframe thead th {\n",
       "        text-align: right;\n",
       "    }\n",
       "</style>\n",
       "<table border=\"1\" class=\"dataframe\">\n",
       "  <thead>\n",
       "    <tr style=\"text-align: right;\">\n",
       "      <th></th>\n",
       "      <th>claim_id</th>\n",
       "      <th>customer_id</th>\n",
       "      <th>incident_cause</th>\n",
       "      <th>claim_date</th>\n",
       "      <th>claim_area</th>\n",
       "      <th>police_report</th>\n",
       "      <th>claim_type</th>\n",
       "      <th>claim_amount</th>\n",
       "      <th>total_policy_claims</th>\n",
       "      <th>fraudulent</th>\n",
       "      <th>CUST_ID</th>\n",
       "      <th>gender</th>\n",
       "      <th>DateOfBirth</th>\n",
       "      <th>State</th>\n",
       "      <th>Contact</th>\n",
       "      <th>Segment</th>\n",
       "      <th>police_report_alert</th>\n",
       "      <th>age</th>\n",
       "      <th>age_group</th>\n",
       "    </tr>\n",
       "  </thead>\n",
       "  <tbody>\n",
       "    <tr>\n",
       "      <th>0</th>\n",
       "      <td>54004764</td>\n",
       "      <td>21868593</td>\n",
       "      <td>Driver error</td>\n",
       "      <td>2017-11-27</td>\n",
       "      <td>Auto</td>\n",
       "      <td>No</td>\n",
       "      <td>Material only</td>\n",
       "      <td>2980.0</td>\n",
       "      <td>1.0</td>\n",
       "      <td>No</td>\n",
       "      <td>21868593.0</td>\n",
       "      <td>Female</td>\n",
       "      <td>1979-01-12</td>\n",
       "      <td>VT</td>\n",
       "      <td>789-916-8172</td>\n",
       "      <td>Platinum</td>\n",
       "      <td>1</td>\n",
       "      <td>44</td>\n",
       "      <td>Adult</td>\n",
       "    </tr>\n",
       "    <tr>\n",
       "      <th>1</th>\n",
       "      <td>33985796</td>\n",
       "      <td>75740424</td>\n",
       "      <td>Crime</td>\n",
       "      <td>2018-10-03</td>\n",
       "      <td>Home</td>\n",
       "      <td>Unknown</td>\n",
       "      <td>Material only</td>\n",
       "      <td>2980.0</td>\n",
       "      <td>3.0</td>\n",
       "      <td>No</td>\n",
       "      <td>75740424.0</td>\n",
       "      <td>Female</td>\n",
       "      <td>2070-01-13</td>\n",
       "      <td>ME</td>\n",
       "      <td>265-543-1264</td>\n",
       "      <td>Silver</td>\n",
       "      <td>0</td>\n",
       "      <td>53</td>\n",
       "      <td>Adult</td>\n",
       "    </tr>\n",
       "    <tr>\n",
       "      <th>9</th>\n",
       "      <td>63246959</td>\n",
       "      <td>33507197</td>\n",
       "      <td>Crime</td>\n",
       "      <td>2017-07-22</td>\n",
       "      <td>Auto</td>\n",
       "      <td>No</td>\n",
       "      <td>Material only</td>\n",
       "      <td>2748.5</td>\n",
       "      <td>2.0</td>\n",
       "      <td>Yes</td>\n",
       "      <td>33507197.0</td>\n",
       "      <td>Female</td>\n",
       "      <td>2066-09-09</td>\n",
       "      <td>RI</td>\n",
       "      <td>165-519-4583</td>\n",
       "      <td>Gold</td>\n",
       "      <td>1</td>\n",
       "      <td>57</td>\n",
       "      <td>Adult</td>\n",
       "    </tr>\n",
       "    <tr>\n",
       "      <th>10</th>\n",
       "      <td>74165873</td>\n",
       "      <td>99103685</td>\n",
       "      <td>Other driver error</td>\n",
       "      <td>2018-01-13</td>\n",
       "      <td>Home</td>\n",
       "      <td>No</td>\n",
       "      <td>Material only</td>\n",
       "      <td>1495.0</td>\n",
       "      <td>1.0</td>\n",
       "      <td>Yes</td>\n",
       "      <td>99103685.0</td>\n",
       "      <td>Female</td>\n",
       "      <td>1985-12-30</td>\n",
       "      <td>KY</td>\n",
       "      <td>764-439-9856</td>\n",
       "      <td>Gold</td>\n",
       "      <td>1</td>\n",
       "      <td>38</td>\n",
       "      <td>Adult</td>\n",
       "    </tr>\n",
       "    <tr>\n",
       "      <th>12</th>\n",
       "      <td>72738047</td>\n",
       "      <td>35875366</td>\n",
       "      <td>Other driver error</td>\n",
       "      <td>2018-04-24</td>\n",
       "      <td>Auto</td>\n",
       "      <td>Unknown</td>\n",
       "      <td>Material only</td>\n",
       "      <td>1870.0</td>\n",
       "      <td>1.0</td>\n",
       "      <td>No</td>\n",
       "      <td>35875366.0</td>\n",
       "      <td>Male</td>\n",
       "      <td>1990-09-16</td>\n",
       "      <td>MD</td>\n",
       "      <td>954-964-1746</td>\n",
       "      <td>Platinum</td>\n",
       "      <td>0</td>\n",
       "      <td>33</td>\n",
       "      <td>Adult</td>\n",
       "    </tr>\n",
       "  </tbody>\n",
       "</table>\n",
       "</div>"
      ],
      "text/plain": [
       "    claim_id customer_id      incident_cause claim_date claim_area  \\\n",
       "0   54004764    21868593        Driver error 2017-11-27       Auto   \n",
       "1   33985796    75740424               Crime 2018-10-03       Home   \n",
       "9   63246959    33507197               Crime 2017-07-22       Auto   \n",
       "10  74165873    99103685  Other driver error 2018-01-13       Home   \n",
       "12  72738047    35875366  Other driver error 2018-04-24       Auto   \n",
       "\n",
       "   police_report     claim_type  claim_amount  total_policy_claims fraudulent  \\\n",
       "0             No  Material only        2980.0                  1.0         No   \n",
       "1        Unknown  Material only        2980.0                  3.0         No   \n",
       "9             No  Material only        2748.5                  2.0        Yes   \n",
       "10            No  Material only        1495.0                  1.0        Yes   \n",
       "12       Unknown  Material only        1870.0                  1.0         No   \n",
       "\n",
       "       CUST_ID  gender DateOfBirth State       Contact   Segment  \\\n",
       "0   21868593.0  Female  1979-01-12    VT  789-916-8172  Platinum   \n",
       "1   75740424.0  Female  2070-01-13    ME  265-543-1264    Silver   \n",
       "9   33507197.0  Female  2066-09-09    RI  165-519-4583      Gold   \n",
       "10  99103685.0  Female  1985-12-30    KY  764-439-9856      Gold   \n",
       "12  35875366.0    Male  1990-09-16    MD  954-964-1746  Platinum   \n",
       "\n",
       "    police_report_alert  age age_group  \n",
       "0                     1   44     Adult  \n",
       "1                     0   53     Adult  \n",
       "9                     1   57     Adult  \n",
       "10                    1   38     Adult  \n",
       "12                    0   33     Adult  "
      ]
     },
     "execution_count": 626,
     "metadata": {},
     "output_type": "execute_result"
    }
   ],
   "source": [
    "merged_table.loc[merged_table.age_group == 'Adult',:].head()"
   ]
  },
  {
   "cell_type": "code",
   "execution_count": 627,
   "id": "901dbdeb",
   "metadata": {},
   "outputs": [],
   "source": [
    "table = merged_table.loc[(merged_table.age_group == 'Adult') & (merged_table.State.isin(['TX', 'DE', 'AK'])) & (merged_table.incident_cause == 'Driver error'),:]"
   ]
  },
  {
   "cell_type": "code",
   "execution_count": 628,
   "id": "9df7bf3d",
   "metadata": {},
   "outputs": [
    {
     "data": {
      "text/plain": [
       "17"
      ]
     },
     "execution_count": 628,
     "metadata": {},
     "output_type": "execute_result"
    }
   ],
   "source": [
    "table.claim_id.count()"
   ]
  },
  {
   "cell_type": "code",
   "execution_count": 629,
   "id": "1d580622",
   "metadata": {},
   "outputs": [
    {
     "data": {
      "text/plain": [
       "'\\n11. Draw a pie chart between the aggregated value of claim amount based on gender and segment. \\nRepresent the claim amount as a percentage on the pie chart.\\n'"
      ]
     },
     "execution_count": 629,
     "metadata": {},
     "output_type": "execute_result"
    }
   ],
   "source": [
    "'''\n",
    "11. Draw a pie chart between the aggregated value of claim amount based on gender and segment. \n",
    "Represent the claim amount as a percentage on the pie chart.\n",
    "'''"
   ]
  },
  {
   "cell_type": "code",
   "execution_count": 630,
   "id": "a5204f41",
   "metadata": {},
   "outputs": [],
   "source": [
    "gender_seg_amount = merged_table.groupby(['gender','Segment'])['claim_amount'].sum()"
   ]
  },
  {
   "cell_type": "code",
   "execution_count": 631,
   "id": "3ca1e3f9",
   "metadata": {},
   "outputs": [],
   "source": [
    "gender_seg_amount = pd.DataFrame(gender_seg_amount)"
   ]
  },
  {
   "cell_type": "code",
   "execution_count": 632,
   "id": "7c6aaee1",
   "metadata": {},
   "outputs": [
    {
     "data": {
      "text/plain": [
       "MultiIndex([('Female',     'Gold'),\n",
       "            ('Female', 'Platinum'),\n",
       "            ('Female',   'Silver'),\n",
       "            (  'Male',     'Gold'),\n",
       "            (  'Male', 'Platinum'),\n",
       "            (  'Male',   'Silver')],\n",
       "           names=['gender', 'Segment'])"
      ]
     },
     "execution_count": 632,
     "metadata": {},
     "output_type": "execute_result"
    }
   ],
   "source": [
    "gender_seg_amount.index"
   ]
  },
  {
   "cell_type": "code",
   "execution_count": 633,
   "id": "04c67ddc",
   "metadata": {},
   "outputs": [
    {
     "data": {
      "text/plain": [
       "Text(0.5, 1.0, 'Claim Amount Distribution by Gender and Segment')"
      ]
     },
     "execution_count": 633,
     "metadata": {},
     "output_type": "execute_result"
    },
    {
     "data": {
      "image/png": "[encoded data removed]",
      "text/plain": [
       "<Figure size 640x480 with 1 Axes>"
      ]
     },
     "metadata": {},
     "output_type": "display_data"
    }
   ],
   "source": [
    "# Creating a pie chart\n",
    "fig, ax = plt.subplots()\n",
    "colors = ['lightblue', 'lightcoral', 'lightgreen', 'lightpink']  # You can customize the colors\n",
    "\n",
    "# Plotting the pie chart\n",
    "ax.pie(gender_seg_amount['claim_amount'], labels=gender_seg_amount.index,\n",
    "       autopct='%1.1f%%', startangle=90, colors=colors)\n",
    "\n",
    "# Setting aspect ratio to be equal ensures that the pie is drawn as a circle.\n",
    "ax.axis('equal')  \n",
    "\n",
    "# Adding a title\n",
    "plt.title('Claim Amount Distribution by Gender and Segment')"
   ]
  },
  {
   "cell_type": "code",
   "execution_count": 634,
   "id": "f395fe37",
   "metadata": {},
   "outputs": [
    {
     "data": {
      "text/plain": [
       "'\\n12. Among males and females, which gender had claimed the most for any\\ntype of driver related issues? E.g. This metric can be compared using a\\nbar chart'"
      ]
     },
     "execution_count": 634,
     "metadata": {},
     "output_type": "execute_result"
    }
   ],
   "source": [
    "'''\n",
    "12. Among males and females, which gender had claimed the most for any\n",
    "type of driver related issues? E.g. This metric can be compared using a\n",
    "bar chart'''"
   ]
  },
  {
   "cell_type": "code",
   "execution_count": 635,
   "id": "5881bc50",
   "metadata": {},
   "outputs": [
    {
     "data": {
      "text/html": [
       "<div>\n",
       "<style scoped>\n",
       "    .dataframe tbody tr th:only-of-type {\n",
       "        vertical-align: middle;\n",
       "    }\n",
       "\n",
       "    .dataframe tbody tr th {\n",
       "        vertical-align: top;\n",
       "    }\n",
       "\n",
       "    .dataframe thead th {\n",
       "        text-align: right;\n",
       "    }\n",
       "</style>\n",
       "<table border=\"1\" class=\"dataframe\">\n",
       "  <thead>\n",
       "    <tr style=\"text-align: right;\">\n",
       "      <th></th>\n",
       "      <th>claim_id</th>\n",
       "      <th>customer_id</th>\n",
       "      <th>incident_cause</th>\n",
       "      <th>claim_date</th>\n",
       "      <th>claim_area</th>\n",
       "      <th>police_report</th>\n",
       "      <th>claim_type</th>\n",
       "      <th>claim_amount</th>\n",
       "      <th>total_policy_claims</th>\n",
       "      <th>fraudulent</th>\n",
       "      <th>CUST_ID</th>\n",
       "      <th>gender</th>\n",
       "      <th>DateOfBirth</th>\n",
       "      <th>State</th>\n",
       "      <th>Contact</th>\n",
       "      <th>Segment</th>\n",
       "      <th>police_report_alert</th>\n",
       "      <th>age</th>\n",
       "      <th>age_group</th>\n",
       "    </tr>\n",
       "  </thead>\n",
       "  <tbody>\n",
       "    <tr>\n",
       "      <th>0</th>\n",
       "      <td>54004764</td>\n",
       "      <td>21868593</td>\n",
       "      <td>Driver error</td>\n",
       "      <td>2017-11-27</td>\n",
       "      <td>Auto</td>\n",
       "      <td>No</td>\n",
       "      <td>Material only</td>\n",
       "      <td>2980.0</td>\n",
       "      <td>1.0</td>\n",
       "      <td>No</td>\n",
       "      <td>21868593.0</td>\n",
       "      <td>Female</td>\n",
       "      <td>1979-01-12</td>\n",
       "      <td>VT</td>\n",
       "      <td>789-916-8172</td>\n",
       "      <td>Platinum</td>\n",
       "      <td>1</td>\n",
       "      <td>44</td>\n",
       "      <td>Adult</td>\n",
       "    </tr>\n",
       "    <tr>\n",
       "      <th>1</th>\n",
       "      <td>33985796</td>\n",
       "      <td>75740424</td>\n",
       "      <td>Crime</td>\n",
       "      <td>2018-10-03</td>\n",
       "      <td>Home</td>\n",
       "      <td>Unknown</td>\n",
       "      <td>Material only</td>\n",
       "      <td>2980.0</td>\n",
       "      <td>3.0</td>\n",
       "      <td>No</td>\n",
       "      <td>75740424.0</td>\n",
       "      <td>Female</td>\n",
       "      <td>2070-01-13</td>\n",
       "      <td>ME</td>\n",
       "      <td>265-543-1264</td>\n",
       "      <td>Silver</td>\n",
       "      <td>0</td>\n",
       "      <td>53</td>\n",
       "      <td>Adult</td>\n",
       "    </tr>\n",
       "    <tr>\n",
       "      <th>6</th>\n",
       "      <td>12878692</td>\n",
       "      <td>18401412</td>\n",
       "      <td>Driver error</td>\n",
       "      <td>2018-01-13</td>\n",
       "      <td>Auto</td>\n",
       "      <td>No</td>\n",
       "      <td>Material only</td>\n",
       "      <td>1730.0</td>\n",
       "      <td>4.0</td>\n",
       "      <td>No</td>\n",
       "      <td>18401412.0</td>\n",
       "      <td>Male</td>\n",
       "      <td>1999-03-02</td>\n",
       "      <td>AR</td>\n",
       "      <td>752-398-2914</td>\n",
       "      <td>Gold</td>\n",
       "      <td>1</td>\n",
       "      <td>24</td>\n",
       "      <td>Youth</td>\n",
       "    </tr>\n",
       "    <tr>\n",
       "      <th>7</th>\n",
       "      <td>27026412</td>\n",
       "      <td>73486606</td>\n",
       "      <td>Natural causes</td>\n",
       "      <td>2018-04-10</td>\n",
       "      <td>Auto</td>\n",
       "      <td>No</td>\n",
       "      <td>Material only</td>\n",
       "      <td>1160.0</td>\n",
       "      <td>3.0</td>\n",
       "      <td>No</td>\n",
       "      <td>73486606.0</td>\n",
       "      <td>Male</td>\n",
       "      <td>1999-10-25</td>\n",
       "      <td>AK</td>\n",
       "      <td>256-968-9172</td>\n",
       "      <td>Silver</td>\n",
       "      <td>1</td>\n",
       "      <td>24</td>\n",
       "      <td>Youth</td>\n",
       "    </tr>\n",
       "    <tr>\n",
       "      <th>8</th>\n",
       "      <td>43908336</td>\n",
       "      <td>32813689</td>\n",
       "      <td>Crime</td>\n",
       "      <td>2018-02-15</td>\n",
       "      <td>Auto</td>\n",
       "      <td>Unknown</td>\n",
       "      <td>Material only</td>\n",
       "      <td>2620.0</td>\n",
       "      <td>1.0</td>\n",
       "      <td>No</td>\n",
       "      <td>32813689.0</td>\n",
       "      <td>Male</td>\n",
       "      <td>1993-10-12</td>\n",
       "      <td>ID</td>\n",
       "      <td>142-324-7481</td>\n",
       "      <td>Silver</td>\n",
       "      <td>0</td>\n",
       "      <td>30</td>\n",
       "      <td>Youth</td>\n",
       "    </tr>\n",
       "  </tbody>\n",
       "</table>\n",
       "</div>"
      ],
      "text/plain": [
       "   claim_id customer_id  incident_cause claim_date claim_area police_report  \\\n",
       "0  54004764    21868593    Driver error 2017-11-27       Auto            No   \n",
       "1  33985796    75740424           Crime 2018-10-03       Home       Unknown   \n",
       "6  12878692    18401412    Driver error 2018-01-13       Auto            No   \n",
       "7  27026412    73486606  Natural causes 2018-04-10       Auto            No   \n",
       "8  43908336    32813689           Crime 2018-02-15       Auto       Unknown   \n",
       "\n",
       "      claim_type  claim_amount  total_policy_claims fraudulent     CUST_ID  \\\n",
       "0  Material only        2980.0                  1.0         No  21868593.0   \n",
       "1  Material only        2980.0                  3.0         No  75740424.0   \n",
       "6  Material only        1730.0                  4.0         No  18401412.0   \n",
       "7  Material only        1160.0                  3.0         No  73486606.0   \n",
       "8  Material only        2620.0                  1.0         No  32813689.0   \n",
       "\n",
       "   gender DateOfBirth State       Contact   Segment  police_report_alert  age  \\\n",
       "0  Female  1979-01-12    VT  789-916-8172  Platinum                    1   44   \n",
       "1  Female  2070-01-13    ME  265-543-1264    Silver                    0   53   \n",
       "6    Male  1999-03-02    AR  752-398-2914      Gold                    1   24   \n",
       "7    Male  1999-10-25    AK  256-968-9172    Silver                    1   24   \n",
       "8    Male  1993-10-12    ID  142-324-7481    Silver                    0   30   \n",
       "\n",
       "  age_group  \n",
       "0     Adult  \n",
       "1     Adult  \n",
       "6     Youth  \n",
       "7     Youth  \n",
       "8     Youth  "
      ]
     },
     "execution_count": 635,
     "metadata": {},
     "output_type": "execute_result"
    }
   ],
   "source": [
    "merged_table.head()"
   ]
  },
  {
   "cell_type": "code",
   "execution_count": 636,
   "id": "4840f5bc",
   "metadata": {},
   "outputs": [],
   "source": [
    "driver_error = merged_table.loc[merged_table.incident_cause == 'Driver error']"
   ]
  },
  {
   "cell_type": "code",
   "execution_count": 637,
   "id": "63ec3e58",
   "metadata": {},
   "outputs": [],
   "source": [
    "driver_error_graph = driver_error.groupby('gender')['claim_amount'].count()"
   ]
  },
  {
   "cell_type": "code",
   "execution_count": 638,
   "id": "3d45d517",
   "metadata": {},
   "outputs": [],
   "source": [
    "driver_error_graph = pd.DataFrame(driver_error_graph)"
   ]
  },
  {
   "cell_type": "code",
   "execution_count": 639,
   "id": "4d1d4f3a",
   "metadata": {},
   "outputs": [
    {
     "data": {
      "text/html": [
       "<div>\n",
       "<style scoped>\n",
       "    .dataframe tbody tr th:only-of-type {\n",
       "        vertical-align: middle;\n",
       "    }\n",
       "\n",
       "    .dataframe tbody tr th {\n",
       "        vertical-align: top;\n",
       "    }\n",
       "\n",
       "    .dataframe thead th {\n",
       "        text-align: right;\n",
       "    }\n",
       "</style>\n",
       "<table border=\"1\" class=\"dataframe\">\n",
       "  <thead>\n",
       "    <tr style=\"text-align: right;\">\n",
       "      <th></th>\n",
       "      <th>claim_amount</th>\n",
       "    </tr>\n",
       "    <tr>\n",
       "      <th>gender</th>\n",
       "      <th></th>\n",
       "    </tr>\n",
       "  </thead>\n",
       "  <tbody>\n",
       "    <tr>\n",
       "      <th>Female</th>\n",
       "      <td>73</td>\n",
       "    </tr>\n",
       "    <tr>\n",
       "      <th>Male</th>\n",
       "      <td>187</td>\n",
       "    </tr>\n",
       "  </tbody>\n",
       "</table>\n",
       "</div>"
      ],
      "text/plain": [
       "        claim_amount\n",
       "gender              \n",
       "Female            73\n",
       "Male             187"
      ]
     },
     "execution_count": 639,
     "metadata": {},
     "output_type": "execute_result"
    }
   ],
   "source": [
    "driver_error_graph"
   ]
  },
  {
   "cell_type": "code",
   "execution_count": 640,
   "id": "277e4731",
   "metadata": {},
   "outputs": [
    {
     "data": {
      "text/plain": [
       "<Axes: xlabel='gender', ylabel='claim_amount'>"
      ]
     },
     "execution_count": 640,
     "metadata": {},
     "output_type": "execute_result"
    },
    {
     "data": {
      "image/png": "[encoded data removed]",
      "text/plain": [
       "<Figure size 640x480 with 1 Axes>"
      ]
     },
     "metadata": {},
     "output_type": "display_data"
    }
   ],
   "source": [
    "sns.barplot(x= driver_error_graph.index, y= driver_error_graph.claim_amount)"
   ]
  },
  {
   "cell_type": "code",
   "execution_count": 641,
   "id": "d92b080b",
   "metadata": {},
   "outputs": [],
   "source": [
    "# males have maximun counts for the reported issues in the table"
   ]
  },
  {
   "cell_type": "code",
   "execution_count": 642,
   "id": "fd80620f",
   "metadata": {},
   "outputs": [
    {
     "data": {
      "text/plain": [
       "'13. Which age group had the maximum fraudulent policy claims? Visualize it on a bar chart.'"
      ]
     },
     "execution_count": 642,
     "metadata": {},
     "output_type": "execute_result"
    }
   ],
   "source": [
    "'''13. Which age group had the maximum fraudulent policy claims? Visualize it on a bar chart.'''"
   ]
  },
  {
   "cell_type": "code",
   "execution_count": 643,
   "id": "5cde804c",
   "metadata": {},
   "outputs": [
    {
     "data": {
      "text/plain": [
       "age_group\n",
       "Children      0\n",
       "Youth        39\n",
       "Adult       192\n",
       "Senior       21\n",
       "Name: fraudulent, dtype: int64"
      ]
     },
     "execution_count": 643,
     "metadata": {},
     "output_type": "execute_result"
    }
   ],
   "source": [
    "merged_table[['fraudulent','age_group']].loc[merged_table.fraudulent == 'Yes'].groupby('age_group')['fraudulent'].count()"
   ]
  },
  {
   "cell_type": "code",
   "execution_count": 644,
   "id": "fdf76db7",
   "metadata": {},
   "outputs": [
    {
     "data": {
      "text/plain": [
       "'14. Visualize the monthly trend of the total amount that has been claimed by the customers.\\nEnsure that on the “month” axis, the month is in a chronological order not alphabetical order.'"
      ]
     },
     "execution_count": 644,
     "metadata": {},
     "output_type": "execute_result"
    }
   ],
   "source": [
    "'''14. Visualize the monthly trend of the total amount that has been claimed by the customers.\n",
    "Ensure that on the “month” axis, the month is in a chronological order not alphabetical order.'''"
   ]
  },
  {
   "cell_type": "code",
   "execution_count": 645,
   "id": "44e4b739",
   "metadata": {},
   "outputs": [],
   "source": [
    "monthly_trend = merged_table[['claim_date', 'claim_amount']]"
   ]
  },
  {
   "cell_type": "code",
   "execution_count": 648,
   "id": "8b9d4c8d",
   "metadata": {},
   "outputs": [
    {
     "name": "stderr",
     "output_type": "stream",
     "text": [
      "C:\\Users\\pauld\\AppData\\Local\\Temp\\ipykernel_4524\\1710095049.py:1: SettingWithCopyWarning: \n",
      "A value is trying to be set on a copy of a slice from a DataFrame.\n",
      "Try using .loc[row_indexer,col_indexer] = value instead\n",
      "\n",
      "See the caveats in the documentation: https://pandas.pydata.org/pandas-docs/stable/user_guide/indexing.html#returning-a-view-versus-a-copy\n",
      "  monthly_trend['month'] = monthly_trend.month.dt.month\n"
     ]
    }
   ],
   "source": [
    "monthly_trend['month'] = monthly_trend.month.dt.month"
   ]
  },
  {
   "cell_type": "code",
   "execution_count": 649,
   "id": "51622d2c",
   "metadata": {
    "scrolled": true
   },
   "outputs": [
    {
     "data": {
      "text/html": [
       "<div>\n",
       "<style scoped>\n",
       "    .dataframe tbody tr th:only-of-type {\n",
       "        vertical-align: middle;\n",
       "    }\n",
       "\n",
       "    .dataframe tbody tr th {\n",
       "        vertical-align: top;\n",
       "    }\n",
       "\n",
       "    .dataframe thead th {\n",
       "        text-align: right;\n",
       "    }\n",
       "</style>\n",
       "<table border=\"1\" class=\"dataframe\">\n",
       "  <thead>\n",
       "    <tr style=\"text-align: right;\">\n",
       "      <th></th>\n",
       "      <th>claim_date</th>\n",
       "      <th>claim_amount</th>\n",
       "      <th>month</th>\n",
       "    </tr>\n",
       "  </thead>\n",
       "  <tbody>\n",
       "    <tr>\n",
       "      <th>0</th>\n",
       "      <td>2017-11-27</td>\n",
       "      <td>2980.0</td>\n",
       "      <td>11</td>\n",
       "    </tr>\n",
       "    <tr>\n",
       "      <th>1</th>\n",
       "      <td>2018-10-03</td>\n",
       "      <td>2980.0</td>\n",
       "      <td>10</td>\n",
       "    </tr>\n",
       "    <tr>\n",
       "      <th>6</th>\n",
       "      <td>2018-01-13</td>\n",
       "      <td>1730.0</td>\n",
       "      <td>1</td>\n",
       "    </tr>\n",
       "    <tr>\n",
       "      <th>7</th>\n",
       "      <td>2018-04-10</td>\n",
       "      <td>1160.0</td>\n",
       "      <td>4</td>\n",
       "    </tr>\n",
       "    <tr>\n",
       "      <th>8</th>\n",
       "      <td>2018-02-15</td>\n",
       "      <td>2620.0</td>\n",
       "      <td>2</td>\n",
       "    </tr>\n",
       "  </tbody>\n",
       "</table>\n",
       "</div>"
      ],
      "text/plain": [
       "  claim_date  claim_amount  month\n",
       "0 2017-11-27        2980.0     11\n",
       "1 2018-10-03        2980.0     10\n",
       "6 2018-01-13        1730.0      1\n",
       "7 2018-04-10        1160.0      4\n",
       "8 2018-02-15        2620.0      2"
      ]
     },
     "execution_count": 649,
     "metadata": {},
     "output_type": "execute_result"
    }
   ],
   "source": [
    "monthly_trend.head()"
   ]
  },
  {
   "cell_type": "code",
   "execution_count": 651,
   "id": "a02fa902",
   "metadata": {},
   "outputs": [],
   "source": [
    "monthly_trend = pd.DataFrame(monthly_trend.groupby('month')['claim_amount'].sum())"
   ]
  },
  {
   "cell_type": "code",
   "execution_count": 652,
   "id": "973de740",
   "metadata": {},
   "outputs": [
    {
     "data": {
      "text/html": [
       "<div>\n",
       "<style scoped>\n",
       "    .dataframe tbody tr th:only-of-type {\n",
       "        vertical-align: middle;\n",
       "    }\n",
       "\n",
       "    .dataframe tbody tr th {\n",
       "        vertical-align: top;\n",
       "    }\n",
       "\n",
       "    .dataframe thead th {\n",
       "        text-align: right;\n",
       "    }\n",
       "</style>\n",
       "<table border=\"1\" class=\"dataframe\">\n",
       "  <thead>\n",
       "    <tr style=\"text-align: right;\">\n",
       "      <th></th>\n",
       "      <th>claim_amount</th>\n",
       "    </tr>\n",
       "    <tr>\n",
       "      <th>month</th>\n",
       "      <th></th>\n",
       "    </tr>\n",
       "  </thead>\n",
       "  <tbody>\n",
       "    <tr>\n",
       "      <th>1</th>\n",
       "      <td>1.326985e+06</td>\n",
       "    </tr>\n",
       "    <tr>\n",
       "      <th>2</th>\n",
       "      <td>1.188012e+06</td>\n",
       "    </tr>\n",
       "    <tr>\n",
       "      <th>3</th>\n",
       "      <td>1.348468e+06</td>\n",
       "    </tr>\n",
       "    <tr>\n",
       "      <th>4</th>\n",
       "      <td>1.293901e+06</td>\n",
       "    </tr>\n",
       "    <tr>\n",
       "      <th>5</th>\n",
       "      <td>1.115280e+06</td>\n",
       "    </tr>\n",
       "    <tr>\n",
       "      <th>6</th>\n",
       "      <td>1.318741e+06</td>\n",
       "    </tr>\n",
       "    <tr>\n",
       "      <th>7</th>\n",
       "      <td>1.382768e+06</td>\n",
       "    </tr>\n",
       "    <tr>\n",
       "      <th>8</th>\n",
       "      <td>9.135063e+05</td>\n",
       "    </tr>\n",
       "    <tr>\n",
       "      <th>9</th>\n",
       "      <td>9.829357e+05</td>\n",
       "    </tr>\n",
       "    <tr>\n",
       "      <th>10</th>\n",
       "      <td>1.415649e+06</td>\n",
       "    </tr>\n",
       "    <tr>\n",
       "      <th>11</th>\n",
       "      <td>6.259845e+05</td>\n",
       "    </tr>\n",
       "    <tr>\n",
       "      <th>12</th>\n",
       "      <td>7.232363e+05</td>\n",
       "    </tr>\n",
       "  </tbody>\n",
       "</table>\n",
       "</div>"
      ],
      "text/plain": [
       "       claim_amount\n",
       "month              \n",
       "1      1.326985e+06\n",
       "2      1.188012e+06\n",
       "3      1.348468e+06\n",
       "4      1.293901e+06\n",
       "5      1.115280e+06\n",
       "6      1.318741e+06\n",
       "7      1.382768e+06\n",
       "8      9.135063e+05\n",
       "9      9.829357e+05\n",
       "10     1.415649e+06\n",
       "11     6.259845e+05\n",
       "12     7.232363e+05"
      ]
     },
     "execution_count": 652,
     "metadata": {},
     "output_type": "execute_result"
    }
   ],
   "source": [
    "monthly_trend"
   ]
  },
  {
   "cell_type": "code",
   "execution_count": 654,
   "id": "f3f567e3",
   "metadata": {},
   "outputs": [],
   "source": [
    "monthly_trend.index = ['January', 'February', 'March', 'Aril', 'May', 'June', 'July', 'August', 'September','October', ' November', 'December']"
   ]
  },
  {
   "cell_type": "code",
   "execution_count": 656,
   "id": "825d15a1",
   "metadata": {},
   "outputs": [
    {
     "data": {
      "text/html": [
       "<div>\n",
       "<style scoped>\n",
       "    .dataframe tbody tr th:only-of-type {\n",
       "        vertical-align: middle;\n",
       "    }\n",
       "\n",
       "    .dataframe tbody tr th {\n",
       "        vertical-align: top;\n",
       "    }\n",
       "\n",
       "    .dataframe thead th {\n",
       "        text-align: right;\n",
       "    }\n",
       "</style>\n",
       "<table border=\"1\" class=\"dataframe\">\n",
       "  <thead>\n",
       "    <tr style=\"text-align: right;\">\n",
       "      <th></th>\n",
       "      <th>claim_amount</th>\n",
       "    </tr>\n",
       "  </thead>\n",
       "  <tbody>\n",
       "    <tr>\n",
       "      <th>January</th>\n",
       "      <td>1.326985e+06</td>\n",
       "    </tr>\n",
       "    <tr>\n",
       "      <th>February</th>\n",
       "      <td>1.188012e+06</td>\n",
       "    </tr>\n",
       "    <tr>\n",
       "      <th>March</th>\n",
       "      <td>1.348468e+06</td>\n",
       "    </tr>\n",
       "    <tr>\n",
       "      <th>Aril</th>\n",
       "      <td>1.293901e+06</td>\n",
       "    </tr>\n",
       "    <tr>\n",
       "      <th>May</th>\n",
       "      <td>1.115280e+06</td>\n",
       "    </tr>\n",
       "    <tr>\n",
       "      <th>June</th>\n",
       "      <td>1.318741e+06</td>\n",
       "    </tr>\n",
       "    <tr>\n",
       "      <th>July</th>\n",
       "      <td>1.382768e+06</td>\n",
       "    </tr>\n",
       "    <tr>\n",
       "      <th>August</th>\n",
       "      <td>9.135063e+05</td>\n",
       "    </tr>\n",
       "    <tr>\n",
       "      <th>September</th>\n",
       "      <td>9.829357e+05</td>\n",
       "    </tr>\n",
       "    <tr>\n",
       "      <th>October</th>\n",
       "      <td>1.415649e+06</td>\n",
       "    </tr>\n",
       "    <tr>\n",
       "      <th>November</th>\n",
       "      <td>6.259845e+05</td>\n",
       "    </tr>\n",
       "    <tr>\n",
       "      <th>December</th>\n",
       "      <td>7.232363e+05</td>\n",
       "    </tr>\n",
       "  </tbody>\n",
       "</table>\n",
       "</div>"
      ],
      "text/plain": [
       "           claim_amount\n",
       "January    1.326985e+06\n",
       "February   1.188012e+06\n",
       "March      1.348468e+06\n",
       "Aril       1.293901e+06\n",
       "May        1.115280e+06\n",
       "June       1.318741e+06\n",
       "July       1.382768e+06\n",
       "August     9.135063e+05\n",
       "September  9.829357e+05\n",
       "October    1.415649e+06\n",
       " November  6.259845e+05\n",
       "December   7.232363e+05"
      ]
     },
     "execution_count": 656,
     "metadata": {},
     "output_type": "execute_result"
    }
   ],
   "source": [
    "monthly_trend"
   ]
  },
  {
   "cell_type": "code",
   "execution_count": 664,
   "id": "c0fc7b88",
   "metadata": {},
   "outputs": [
    {
     "data": {
      "image/png": "[encoded data removed]",
      "text/plain": [
       "<Figure size 640x480 with 1 Axes>"
      ]
     },
     "metadata": {},
     "output_type": "display_data"
    }
   ],
   "source": [
    "sns.lineplot(x= monthly_trend.index, y= monthly_trend.claim_amount, marker = 'd', c = 'r', label = 'total claim amount')\n",
    "plt.xticks(rotation = 90)\n",
    "plt.grid(alpha = 0.5)\n",
    "plt.show()"
   ]
  },
  {
   "cell_type": "code",
   "execution_count": 665,
   "id": "7b9a5cf6",
   "metadata": {},
   "outputs": [
    {
     "data": {
      "text/plain": [
       "'15. What is the average claim amount for gender and age categories and suitably represent the above using a facetted bar\\nchart, one facet that represents fraudulent claims and the other for non-fraudulent claims.'"
      ]
     },
     "execution_count": 665,
     "metadata": {},
     "output_type": "execute_result"
    }
   ],
   "source": [
    "'''15. What is the average claim amount for gender and age categories and suitably represent the above using a facetted bar\n",
    "chart, one facet that represents fraudulent claims and the other for non-fraudulent claims.'''"
   ]
  },
  {
   "cell_type": "code",
   "execution_count": 672,
   "id": "dea8bb7d",
   "metadata": {},
   "outputs": [],
   "source": [
    "Frauds_amount_gender= pd.DataFrame(merged_table.loc[(merged_table.fraudulent==\"Yes\"),:].groupby([\"gender\",\"age_group\"])[[\"claim_amount\"]].mean().add_prefix(\"Fraud_\"))\n",
    "Non_Frauds_amount_gender=pd.DataFrame(merged_table.loc[(merged_table.fraudulent==\"No\"),:].groupby([\"gender\",\"age_group\"])[[\"claim_amount\"]].mean().add_prefix(\"Non_Fraud_\"))"
   ]
  },
  {
   "cell_type": "code",
   "execution_count": 673,
   "id": "00415e64",
   "metadata": {},
   "outputs": [],
   "source": [
    "Claims_age_gender=round(pd.merge(Frauds_amount_gender,Non_Frauds_amount_gender, on=[\"gender\",\"age_group\"]),2)"
   ]
  },
  {
   "cell_type": "code",
   "execution_count": 675,
   "id": "d434a57d",
   "metadata": {},
   "outputs": [
    {
     "data": {
      "image/png": "[encoded data removed]",
      "text/plain": [
       "<Figure size 640x480 with 2 Axes>"
      ]
     },
     "metadata": {},
     "output_type": "display_data"
    }
   ],
   "source": [
    "Claims_age_gender.plot(kind=\"bar\", subplots= True, legend= True)\n",
    "plt.show()"
   ]
  },
  {
   "cell_type": "code",
   "execution_count": 677,
   "id": "87ad6842",
   "metadata": {},
   "outputs": [
    {
     "data": {
      "text/plain": [
       "'Based on the conclusions from exploratory analysis as well as suitable\\nstatistical tests, answer the below questions. Please include a detailed\\nwrite-up on the parameters taken into consideration, the Hypothesis\\ntesting steps, conclusion from the p-values and the business implications of\\nthe statements.'"
      ]
     },
     "execution_count": 677,
     "metadata": {},
     "output_type": "execute_result"
    }
   ],
   "source": [
    "'''Based on the conclusions from exploratory analysis as well as suitable\n",
    "statistical tests, answer the below questions. Please include a detailed\n",
    "write-up on the parameters taken into consideration, the Hypothesis\n",
    "testing steps, conclusion from the p-values and the business implications of\n",
    "the statements.'''"
   ]
  },
  {
   "cell_type": "code",
   "execution_count": 678,
   "id": "c265ef45",
   "metadata": {},
   "outputs": [],
   "source": [
    "# 16. Is there any similarity in the amount claimed by males and females?"
   ]
  },
  {
   "cell_type": "code",
   "execution_count": 679,
   "id": "cc665f9a",
   "metadata": {},
   "outputs": [],
   "source": [
    "claim_male = merged_table['claim_amount'].loc[merged_table['gender']==\"Male\"]\n",
    "claim_female = merged_table['claim_amount'].loc[merged_table['gender']==\"Female\"]"
   ]
  },
  {
   "cell_type": "code",
   "execution_count": 681,
   "id": "1a675259",
   "metadata": {},
   "outputs": [
    {
     "name": "stdout",
     "output_type": "stream",
     "text": [
      "The average amount claimed by males is 12825.373812404612\n",
      "The average amount claimed by females is 12099.248985705743\n"
     ]
    }
   ],
   "source": [
    "print(\"The average amount claimed by males is {}\".format(claim_male.mean()))\n",
    "print(\"The average amount claimed by females is {}\".format(claim_female.mean()))"
   ]
  },
  {
   "cell_type": "code",
   "execution_count": 682,
   "id": "5c294c5d",
   "metadata": {},
   "outputs": [],
   "source": [
    "# Two sample t-test:\n",
    "# To conduct a valid test: (Assumptions for two sample t-test)\n",
    "\n",
    "# Data values must be independent. Measurements for one observation do not affect measurements for any other observation.\n",
    "# Data in each group must be obtained via a random sample from the population.\n",
    "# Data in each group are normally distributed.\n",
    "# Data values are continuous.\n",
    "# The variances for the two independent groups are equal."
   ]
  },
  {
   "cell_type": "code",
   "execution_count": 683,
   "id": "920e864e",
   "metadata": {},
   "outputs": [],
   "source": [
    "import scipy.stats as stats"
   ]
  },
  {
   "cell_type": "code",
   "execution_count": 686,
   "id": "da7b610b",
   "metadata": {},
   "outputs": [
    {
     "data": {
      "text/plain": [
       "0.8982962111011336"
      ]
     },
     "execution_count": 686,
     "metadata": {},
     "output_type": "execute_result"
    }
   ],
   "source": [
    "#checking the variance\n",
    "\n",
    "eq_var = stats.ttest_ind(a= claim_male,\n",
    "                b= claim_female,\n",
    "                equal_var=True)    # equal variance\n",
    "eq_var.statistic"
   ]
  },
  {
   "cell_type": "code",
   "execution_count": 687,
   "id": "26f8d96f",
   "metadata": {},
   "outputs": [
    {
     "data": {
      "text/plain": [
       "0.8992431685919812"
      ]
     },
     "execution_count": 687,
     "metadata": {},
     "output_type": "execute_result"
    }
   ],
   "source": [
    "uneq_var = stats.ttest_ind(a= claim_male,\n",
    "                b= claim_female,\n",
    "                equal_var=False)    # UnEqual variance\n",
    "uneq_var.statistic"
   ]
  },
  {
   "cell_type": "code",
   "execution_count": 688,
   "id": "27a43693",
   "metadata": {},
   "outputs": [],
   "source": [
    "# The t score of the variables is very similar thus we will consider it as equal variance"
   ]
  },
  {
   "cell_type": "code",
   "execution_count": 689,
   "id": "13a13041",
   "metadata": {},
   "outputs": [
    {
     "name": "stdout",
     "output_type": "stream",
     "text": [
      " For the above test, the t-score is 0.8982962111011336 and the p-value is 0.3692258511129498\n"
     ]
    }
   ],
   "source": [
    "t= eq_var.statistic\n",
    "p= eq_var.pvalue\n",
    "\n",
    "print(\" For the above test, the t-score is {} and the p-value is {}\".format(t,p))"
   ]
  },
  {
   "cell_type": "code",
   "execution_count": 690,
   "id": "85024bc3",
   "metadata": {},
   "outputs": [
    {
     "name": "stdout",
     "output_type": "stream",
     "text": [
      "We fail to reject null hypothesis\n"
     ]
    }
   ],
   "source": [
    "if(p<0.05):\n",
    "    print('We reject null hypothesis')\n",
    "else:\n",
    "    print('We fail to reject null hypothesis')\n",
    "\n",
    "\n",
    "# As the significance value of t test is greater than 0.05 we can safely conclude that there is a similarity in amount claimed by males and females."
   ]
  },
  {
   "cell_type": "code",
   "execution_count": 691,
   "id": "2ea27d13",
   "metadata": {},
   "outputs": [],
   "source": [
    "# 17. Is there any relationship between age category and segment?"
   ]
  },
  {
   "cell_type": "code",
   "execution_count": 694,
   "id": "8c37237b",
   "metadata": {},
   "outputs": [
    {
     "data": {
      "text/html": [
       "<div>\n",
       "<style scoped>\n",
       "    .dataframe tbody tr th:only-of-type {\n",
       "        vertical-align: middle;\n",
       "    }\n",
       "\n",
       "    .dataframe tbody tr th {\n",
       "        vertical-align: top;\n",
       "    }\n",
       "\n",
       "    .dataframe thead th {\n",
       "        text-align: right;\n",
       "    }\n",
       "</style>\n",
       "<table border=\"1\" class=\"dataframe\">\n",
       "  <thead>\n",
       "    <tr style=\"text-align: right;\">\n",
       "      <th>Segment</th>\n",
       "      <th>Gold</th>\n",
       "      <th>Platinum</th>\n",
       "      <th>Silver</th>\n",
       "      <th>All</th>\n",
       "    </tr>\n",
       "    <tr>\n",
       "      <th>age_group</th>\n",
       "      <th></th>\n",
       "      <th></th>\n",
       "      <th></th>\n",
       "      <th></th>\n",
       "    </tr>\n",
       "  </thead>\n",
       "  <tbody>\n",
       "    <tr>\n",
       "      <th>Youth</th>\n",
       "      <td>71</td>\n",
       "      <td>69</td>\n",
       "      <td>68</td>\n",
       "      <td>208</td>\n",
       "    </tr>\n",
       "    <tr>\n",
       "      <th>Adult</th>\n",
       "      <td>287</td>\n",
       "      <td>266</td>\n",
       "      <td>257</td>\n",
       "      <td>810</td>\n",
       "    </tr>\n",
       "    <tr>\n",
       "      <th>Senior</th>\n",
       "      <td>28</td>\n",
       "      <td>26</td>\n",
       "      <td>21</td>\n",
       "      <td>75</td>\n",
       "    </tr>\n",
       "    <tr>\n",
       "      <th>All</th>\n",
       "      <td>386</td>\n",
       "      <td>361</td>\n",
       "      <td>346</td>\n",
       "      <td>1093</td>\n",
       "    </tr>\n",
       "  </tbody>\n",
       "</table>\n",
       "</div>"
      ],
      "text/plain": [
       "Segment    Gold  Platinum  Silver   All\n",
       "age_group                              \n",
       "Youth        71        69      68   208\n",
       "Adult       287       266     257   810\n",
       "Senior       28        26      21    75\n",
       "All         386       361     346  1093"
      ]
     },
     "execution_count": 694,
     "metadata": {},
     "output_type": "execute_result"
    }
   ],
   "source": [
    "# To find out this relationship we will use Chi Square test\n",
    "\n",
    "# H0= No relation between category and segment;\n",
    "# Ha= There is a relationship between category and segment\n",
    "\n",
    "\n",
    "age_cat_seg = pd.crosstab(merged_table.age_group, merged_table.Segment, margins = True)\n",
    "age_cat_seg"
   ]
  },
  {
   "cell_type": "code",
   "execution_count": 695,
   "id": "74033c57",
   "metadata": {},
   "outputs": [
    {
     "data": {
      "text/plain": [
       "Chi2ContingencyResult(statistic=0.6313174395846602, pvalue=0.9999175930563284, dof=9, expected_freq=array([[  73.45654163,   68.6989936 ,   65.84446478,  208.        ],\n",
       "       [ 286.05672461,  267.52973468,  256.41354071,  810.        ],\n",
       "       [  26.48673376,   24.77127173,   23.74199451,   75.        ],\n",
       "       [ 386.        ,  361.        ,  346.        , 1093.        ]]))"
      ]
     },
     "execution_count": 695,
     "metadata": {},
     "output_type": "execute_result"
    }
   ],
   "source": [
    "# performing test\n",
    "Chi_test = stats.chi2_contingency(observed= age_cat_seg)\n",
    "Chi_test"
   ]
  },
  {
   "cell_type": "code",
   "execution_count": 696,
   "id": "d06c22cc",
   "metadata": {},
   "outputs": [
    {
     "name": "stdout",
     "output_type": "stream",
     "text": [
      "The chi square stat is 0.6313174395846602 and the p value is 0.9999175930563284\n"
     ]
    }
   ],
   "source": [
    "print(\"The chi square stat is {} and the p value is {}\".format(Chi_test[0],Chi_test[1]))"
   ]
  },
  {
   "cell_type": "code",
   "execution_count": 697,
   "id": "4c4548c4",
   "metadata": {},
   "outputs": [],
   "source": [
    "# Since the significance value of the test is greter than 0.05, we fail reject the null hypothesis. \n",
    "# Therefore there is no relationship between age category and segment"
   ]
  },
  {
   "cell_type": "code",
   "execution_count": 698,
   "id": "4988ef14",
   "metadata": {},
   "outputs": [],
   "source": [
    "# 18. The current year has shown a significant rise in claim amounts as\n",
    "# compared to 2016-17 fiscal average which was $10,000."
   ]
  },
  {
   "cell_type": "code",
   "execution_count": 699,
   "id": "4ee1a1f2",
   "metadata": {},
   "outputs": [],
   "source": [
    "# Null Hypothesis (H0): The average claim amount in the current year is not significantly different from the average claim \n",
    "# amount in the 2016-17 fiscal year.\n",
    "\n",
    "# Alternative Hypothesis (H1): The average claim amount in the current year is significantly higher than the average claim \n",
    "# amount in the 2016-17 fiscal year."
   ]
  },
  {
   "cell_type": "code",
   "execution_count": 700,
   "id": "334fc392",
   "metadata": {
    "scrolled": true
   },
   "outputs": [
    {
     "data": {
      "text/html": [
       "<div>\n",
       "<style scoped>\n",
       "    .dataframe tbody tr th:only-of-type {\n",
       "        vertical-align: middle;\n",
       "    }\n",
       "\n",
       "    .dataframe tbody tr th {\n",
       "        vertical-align: top;\n",
       "    }\n",
       "\n",
       "    .dataframe thead th {\n",
       "        text-align: right;\n",
       "    }\n",
       "</style>\n",
       "<table border=\"1\" class=\"dataframe\">\n",
       "  <thead>\n",
       "    <tr style=\"text-align: right;\">\n",
       "      <th></th>\n",
       "      <th>claim_id</th>\n",
       "      <th>customer_id</th>\n",
       "      <th>incident_cause</th>\n",
       "      <th>claim_date</th>\n",
       "      <th>claim_area</th>\n",
       "      <th>police_report</th>\n",
       "      <th>claim_type</th>\n",
       "      <th>claim_amount</th>\n",
       "      <th>total_policy_claims</th>\n",
       "      <th>fraudulent</th>\n",
       "      <th>CUST_ID</th>\n",
       "      <th>gender</th>\n",
       "      <th>DateOfBirth</th>\n",
       "      <th>State</th>\n",
       "      <th>Contact</th>\n",
       "      <th>Segment</th>\n",
       "      <th>police_report_alert</th>\n",
       "      <th>age</th>\n",
       "      <th>age_group</th>\n",
       "    </tr>\n",
       "  </thead>\n",
       "  <tbody>\n",
       "    <tr>\n",
       "      <th>0</th>\n",
       "      <td>54004764</td>\n",
       "      <td>21868593</td>\n",
       "      <td>Driver error</td>\n",
       "      <td>2017-11-27</td>\n",
       "      <td>Auto</td>\n",
       "      <td>No</td>\n",
       "      <td>Material only</td>\n",
       "      <td>2980.0</td>\n",
       "      <td>1.0</td>\n",
       "      <td>No</td>\n",
       "      <td>21868593.0</td>\n",
       "      <td>Female</td>\n",
       "      <td>1979-01-12</td>\n",
       "      <td>VT</td>\n",
       "      <td>789-916-8172</td>\n",
       "      <td>Platinum</td>\n",
       "      <td>1</td>\n",
       "      <td>44</td>\n",
       "      <td>Adult</td>\n",
       "    </tr>\n",
       "    <tr>\n",
       "      <th>1</th>\n",
       "      <td>33985796</td>\n",
       "      <td>75740424</td>\n",
       "      <td>Crime</td>\n",
       "      <td>2018-10-03</td>\n",
       "      <td>Home</td>\n",
       "      <td>Unknown</td>\n",
       "      <td>Material only</td>\n",
       "      <td>2980.0</td>\n",
       "      <td>3.0</td>\n",
       "      <td>No</td>\n",
       "      <td>75740424.0</td>\n",
       "      <td>Female</td>\n",
       "      <td>2070-01-13</td>\n",
       "      <td>ME</td>\n",
       "      <td>265-543-1264</td>\n",
       "      <td>Silver</td>\n",
       "      <td>0</td>\n",
       "      <td>53</td>\n",
       "      <td>Adult</td>\n",
       "    </tr>\n",
       "    <tr>\n",
       "      <th>6</th>\n",
       "      <td>12878692</td>\n",
       "      <td>18401412</td>\n",
       "      <td>Driver error</td>\n",
       "      <td>2018-01-13</td>\n",
       "      <td>Auto</td>\n",
       "      <td>No</td>\n",
       "      <td>Material only</td>\n",
       "      <td>1730.0</td>\n",
       "      <td>4.0</td>\n",
       "      <td>No</td>\n",
       "      <td>18401412.0</td>\n",
       "      <td>Male</td>\n",
       "      <td>1999-03-02</td>\n",
       "      <td>AR</td>\n",
       "      <td>752-398-2914</td>\n",
       "      <td>Gold</td>\n",
       "      <td>1</td>\n",
       "      <td>24</td>\n",
       "      <td>Youth</td>\n",
       "    </tr>\n",
       "    <tr>\n",
       "      <th>7</th>\n",
       "      <td>27026412</td>\n",
       "      <td>73486606</td>\n",
       "      <td>Natural causes</td>\n",
       "      <td>2018-04-10</td>\n",
       "      <td>Auto</td>\n",
       "      <td>No</td>\n",
       "      <td>Material only</td>\n",
       "      <td>1160.0</td>\n",
       "      <td>3.0</td>\n",
       "      <td>No</td>\n",
       "      <td>73486606.0</td>\n",
       "      <td>Male</td>\n",
       "      <td>1999-10-25</td>\n",
       "      <td>AK</td>\n",
       "      <td>256-968-9172</td>\n",
       "      <td>Silver</td>\n",
       "      <td>1</td>\n",
       "      <td>24</td>\n",
       "      <td>Youth</td>\n",
       "    </tr>\n",
       "    <tr>\n",
       "      <th>8</th>\n",
       "      <td>43908336</td>\n",
       "      <td>32813689</td>\n",
       "      <td>Crime</td>\n",
       "      <td>2018-02-15</td>\n",
       "      <td>Auto</td>\n",
       "      <td>Unknown</td>\n",
       "      <td>Material only</td>\n",
       "      <td>2620.0</td>\n",
       "      <td>1.0</td>\n",
       "      <td>No</td>\n",
       "      <td>32813689.0</td>\n",
       "      <td>Male</td>\n",
       "      <td>1993-10-12</td>\n",
       "      <td>ID</td>\n",
       "      <td>142-324-7481</td>\n",
       "      <td>Silver</td>\n",
       "      <td>0</td>\n",
       "      <td>30</td>\n",
       "      <td>Youth</td>\n",
       "    </tr>\n",
       "  </tbody>\n",
       "</table>\n",
       "</div>"
      ],
      "text/plain": [
       "   claim_id customer_id  incident_cause claim_date claim_area police_report  \\\n",
       "0  54004764    21868593    Driver error 2017-11-27       Auto            No   \n",
       "1  33985796    75740424           Crime 2018-10-03       Home       Unknown   \n",
       "6  12878692    18401412    Driver error 2018-01-13       Auto            No   \n",
       "7  27026412    73486606  Natural causes 2018-04-10       Auto            No   \n",
       "8  43908336    32813689           Crime 2018-02-15       Auto       Unknown   \n",
       "\n",
       "      claim_type  claim_amount  total_policy_claims fraudulent     CUST_ID  \\\n",
       "0  Material only        2980.0                  1.0         No  21868593.0   \n",
       "1  Material only        2980.0                  3.0         No  75740424.0   \n",
       "6  Material only        1730.0                  4.0         No  18401412.0   \n",
       "7  Material only        1160.0                  3.0         No  73486606.0   \n",
       "8  Material only        2620.0                  1.0         No  32813689.0   \n",
       "\n",
       "   gender DateOfBirth State       Contact   Segment  police_report_alert  age  \\\n",
       "0  Female  1979-01-12    VT  789-916-8172  Platinum                    1   44   \n",
       "1  Female  2070-01-13    ME  265-543-1264    Silver                    0   53   \n",
       "6    Male  1999-03-02    AR  752-398-2914      Gold                    1   24   \n",
       "7    Male  1999-10-25    AK  256-968-9172    Silver                    1   24   \n",
       "8    Male  1993-10-12    ID  142-324-7481    Silver                    0   30   \n",
       "\n",
       "  age_group  \n",
       "0     Adult  \n",
       "1     Adult  \n",
       "6     Youth  \n",
       "7     Youth  \n",
       "8     Youth  "
      ]
     },
     "execution_count": 700,
     "metadata": {},
     "output_type": "execute_result"
    }
   ],
   "source": [
    "merged_table.head()"
   ]
  },
  {
   "cell_type": "code",
   "execution_count": 713,
   "id": "11dc5a9a",
   "metadata": {},
   "outputs": [
    {
     "data": {
      "text/plain": [
       "claim_id                       object\n",
       "customer_id                    object\n",
       "incident_cause                 object\n",
       "claim_date             datetime64[ns]\n",
       "claim_area                     object\n",
       "police_report                  object\n",
       "claim_type                     object\n",
       "claim_amount                  float64\n",
       "total_policy_claims           float64\n",
       "fraudulent                     object\n",
       "CUST_ID                        object\n",
       "gender                         object\n",
       "DateOfBirth            datetime64[ns]\n",
       "State                          object\n",
       "Contact                        object\n",
       "Segment                        object\n",
       "police_report_alert             int32\n",
       "age                             int64\n",
       "age_group                    category\n",
       "year                            int64\n",
       "dtype: object"
      ]
     },
     "execution_count": 713,
     "metadata": {},
     "output_type": "execute_result"
    }
   ],
   "source": [
    "merged_table.dtypes"
   ]
  },
  {
   "cell_type": "code",
   "execution_count": 721,
   "id": "f81e8743",
   "metadata": {},
   "outputs": [],
   "source": [
    "pre_date = dt.datetime(2016,4,1)\n",
    "last_date = dt.datetime(2017,3,31)"
   ]
  },
  {
   "cell_type": "code",
   "execution_count": 722,
   "id": "04b89d1e",
   "metadata": {},
   "outputs": [
    {
     "name": "stdout",
     "output_type": "stream",
     "text": [
      "2016-04-01 00:00:00\n",
      "2017-03-31 00:00:00\n"
     ]
    }
   ],
   "source": [
    "print(pre_date)\n",
    "print(last_date)"
   ]
  },
  {
   "cell_type": "code",
   "execution_count": 725,
   "id": "f1202ca1",
   "metadata": {},
   "outputs": [],
   "source": [
    "table1 = merged_table.loc[(merged_table['claim_date']>pre_date) & (merged_table['claim_date']<last_date)]"
   ]
  },
  {
   "cell_type": "code",
   "execution_count": 727,
   "id": "3399b299",
   "metadata": {},
   "outputs": [
    {
     "data": {
      "text/html": [
       "<div>\n",
       "<style scoped>\n",
       "    .dataframe tbody tr th:only-of-type {\n",
       "        vertical-align: middle;\n",
       "    }\n",
       "\n",
       "    .dataframe tbody tr th {\n",
       "        vertical-align: top;\n",
       "    }\n",
       "\n",
       "    .dataframe thead th {\n",
       "        text-align: right;\n",
       "    }\n",
       "</style>\n",
       "<table border=\"1\" class=\"dataframe\">\n",
       "  <thead>\n",
       "    <tr style=\"text-align: right;\">\n",
       "      <th></th>\n",
       "      <th>claim_id</th>\n",
       "      <th>customer_id</th>\n",
       "      <th>incident_cause</th>\n",
       "      <th>claim_date</th>\n",
       "      <th>claim_area</th>\n",
       "      <th>police_report</th>\n",
       "      <th>claim_type</th>\n",
       "      <th>claim_amount</th>\n",
       "      <th>total_policy_claims</th>\n",
       "      <th>fraudulent</th>\n",
       "      <th>CUST_ID</th>\n",
       "      <th>gender</th>\n",
       "      <th>DateOfBirth</th>\n",
       "      <th>State</th>\n",
       "      <th>Contact</th>\n",
       "      <th>Segment</th>\n",
       "      <th>police_report_alert</th>\n",
       "      <th>age</th>\n",
       "      <th>age_group</th>\n",
       "      <th>year</th>\n",
       "    </tr>\n",
       "  </thead>\n",
       "  <tbody>\n",
       "    <tr>\n",
       "      <th>20</th>\n",
       "      <td>32630720</td>\n",
       "      <td>75584003</td>\n",
       "      <td>Crime</td>\n",
       "      <td>2017-02-03</td>\n",
       "      <td>Auto</td>\n",
       "      <td>No</td>\n",
       "      <td>Material only</td>\n",
       "      <td>12475.266051</td>\n",
       "      <td>1.0</td>\n",
       "      <td>No</td>\n",
       "      <td>75584003.0</td>\n",
       "      <td>Female</td>\n",
       "      <td>2067-04-22</td>\n",
       "      <td>OK</td>\n",
       "      <td>723-418-3248</td>\n",
       "      <td>Silver</td>\n",
       "      <td>1</td>\n",
       "      <td>56</td>\n",
       "      <td>Adult</td>\n",
       "      <td>2017</td>\n",
       "    </tr>\n",
       "    <tr>\n",
       "      <th>38</th>\n",
       "      <td>30942972</td>\n",
       "      <td>60225946</td>\n",
       "      <td>Other causes</td>\n",
       "      <td>2017-02-17</td>\n",
       "      <td>Auto</td>\n",
       "      <td>No</td>\n",
       "      <td>Material only</td>\n",
       "      <td>1890.000000</td>\n",
       "      <td>1.0</td>\n",
       "      <td>No</td>\n",
       "      <td>60225946.0</td>\n",
       "      <td>Female</td>\n",
       "      <td>1977-08-27</td>\n",
       "      <td>OH</td>\n",
       "      <td>715-356-4572</td>\n",
       "      <td>Gold</td>\n",
       "      <td>1</td>\n",
       "      <td>46</td>\n",
       "      <td>Adult</td>\n",
       "      <td>2017</td>\n",
       "    </tr>\n",
       "    <tr>\n",
       "      <th>46</th>\n",
       "      <td>14836805</td>\n",
       "      <td>75252854</td>\n",
       "      <td>Other driver error</td>\n",
       "      <td>2017-02-23</td>\n",
       "      <td>Auto</td>\n",
       "      <td>Yes</td>\n",
       "      <td>Injury only</td>\n",
       "      <td>32630.000000</td>\n",
       "      <td>1.0</td>\n",
       "      <td>No</td>\n",
       "      <td>75252854.0</td>\n",
       "      <td>Male</td>\n",
       "      <td>1995-08-30</td>\n",
       "      <td>NH</td>\n",
       "      <td>542-927-5413</td>\n",
       "      <td>Gold</td>\n",
       "      <td>0</td>\n",
       "      <td>28</td>\n",
       "      <td>Youth</td>\n",
       "      <td>2017</td>\n",
       "    </tr>\n",
       "    <tr>\n",
       "      <th>63</th>\n",
       "      <td>21972507</td>\n",
       "      <td>83088652</td>\n",
       "      <td>Driver error</td>\n",
       "      <td>2017-01-14</td>\n",
       "      <td>Auto</td>\n",
       "      <td>Unknown</td>\n",
       "      <td>Material only</td>\n",
       "      <td>2910.000000</td>\n",
       "      <td>1.0</td>\n",
       "      <td>No</td>\n",
       "      <td>83088652.0</td>\n",
       "      <td>Male</td>\n",
       "      <td>1998-10-05</td>\n",
       "      <td>MD</td>\n",
       "      <td>968-236-9367</td>\n",
       "      <td>Platinum</td>\n",
       "      <td>0</td>\n",
       "      <td>25</td>\n",
       "      <td>Youth</td>\n",
       "      <td>2017</td>\n",
       "    </tr>\n",
       "    <tr>\n",
       "      <th>67</th>\n",
       "      <td>79089153</td>\n",
       "      <td>78364565</td>\n",
       "      <td>Other causes</td>\n",
       "      <td>2017-02-10</td>\n",
       "      <td>Auto</td>\n",
       "      <td>Yes</td>\n",
       "      <td>Injury only</td>\n",
       "      <td>25830.000000</td>\n",
       "      <td>3.0</td>\n",
       "      <td>No</td>\n",
       "      <td>78364565.0</td>\n",
       "      <td>Female</td>\n",
       "      <td>2061-08-07</td>\n",
       "      <td>NM</td>\n",
       "      <td>862-483-5218</td>\n",
       "      <td>Silver</td>\n",
       "      <td>0</td>\n",
       "      <td>62</td>\n",
       "      <td>Senior</td>\n",
       "      <td>2017</td>\n",
       "    </tr>\n",
       "  </tbody>\n",
       "</table>\n",
       "</div>"
      ],
      "text/plain": [
       "    claim_id customer_id      incident_cause claim_date claim_area  \\\n",
       "20  32630720    75584003               Crime 2017-02-03       Auto   \n",
       "38  30942972    60225946        Other causes 2017-02-17       Auto   \n",
       "46  14836805    75252854  Other driver error 2017-02-23       Auto   \n",
       "63  21972507    83088652        Driver error 2017-01-14       Auto   \n",
       "67  79089153    78364565        Other causes 2017-02-10       Auto   \n",
       "\n",
       "   police_report     claim_type  claim_amount  total_policy_claims fraudulent  \\\n",
       "20            No  Material only  12475.266051                  1.0         No   \n",
       "38            No  Material only   1890.000000                  1.0         No   \n",
       "46           Yes    Injury only  32630.000000                  1.0         No   \n",
       "63       Unknown  Material only   2910.000000                  1.0         No   \n",
       "67           Yes    Injury only  25830.000000                  3.0         No   \n",
       "\n",
       "       CUST_ID  gender DateOfBirth State       Contact   Segment  \\\n",
       "20  75584003.0  Female  2067-04-22    OK  723-418-3248    Silver   \n",
       "38  60225946.0  Female  1977-08-27    OH  715-356-4572      Gold   \n",
       "46  75252854.0    Male  1995-08-30    NH  542-927-5413      Gold   \n",
       "63  83088652.0    Male  1998-10-05    MD  968-236-9367  Platinum   \n",
       "67  78364565.0  Female  2061-08-07    NM  862-483-5218    Silver   \n",
       "\n",
       "    police_report_alert  age age_group  year  \n",
       "20                    1   56     Adult  2017  \n",
       "38                    1   46     Adult  2017  \n",
       "46                    0   28     Youth  2017  \n",
       "63                    0   25     Youth  2017  \n",
       "67                    0   62    Senior  2017  "
      ]
     },
     "execution_count": 727,
     "metadata": {},
     "output_type": "execute_result"
    }
   ],
   "source": [
    "table1.head()"
   ]
  },
  {
   "cell_type": "code",
   "execution_count": 728,
   "id": "11784f5a",
   "metadata": {},
   "outputs": [],
   "source": [
    "t_statistic, p_value= stats.ttest_1samp(table1.claim_amount, popmean= 10000)"
   ]
  },
  {
   "cell_type": "code",
   "execution_count": 729,
   "id": "c9e10769",
   "metadata": {},
   "outputs": [
    {
     "name": "stdout",
     "output_type": "stream",
     "text": [
      "T-statistic: 1.324058887866776\n",
      "P-value: 0.18733722232103042\n"
     ]
    }
   ],
   "source": [
    "print(\"T-statistic:\", t_statistic)\n",
    "print(\"P-value:\", p_value)"
   ]
  },
  {
   "cell_type": "code",
   "execution_count": 730,
   "id": "089975a5",
   "metadata": {},
   "outputs": [
    {
     "name": "stdout",
     "output_type": "stream",
     "text": [
      "Fail to reject the null hypothesis: There is no significant rise in claim amounts.\n"
     ]
    }
   ],
   "source": [
    "if p_value < 0.05:\n",
    "    print(\"Reject the null hypothesis: There is a significant rise in claim amounts.\")\n",
    "else:\n",
    "    print(\"Fail to reject the null hypothesis: There is no significant rise in claim amounts.\")"
   ]
  },
  {
   "cell_type": "code",
   "execution_count": 731,
   "id": "7c41df82",
   "metadata": {},
   "outputs": [],
   "source": [
    "# 19. Is there any difference between age groups and insurance claims?"
   ]
  },
  {
   "cell_type": "code",
   "execution_count": 732,
   "id": "1be7fded",
   "metadata": {},
   "outputs": [],
   "source": [
    "# ANOVA test\n",
    "\n",
    "# H0 : mean(AgeGroup[Youth]) == mean(AgeGroup[Adult]) (No difference between age groups and insurance claims \n",
    "# or No influence of age groups on insurance claims) \n",
    "\n",
    "# Ha : mean(AgeGroup[Youth]) <> mean(AgeGroup[Adult]) (There is some difference between age groups and insurance \n",
    "# claims or there is some influence of age groups on insurance claims)"
   ]
  },
  {
   "cell_type": "code",
   "execution_count": 735,
   "id": "7908e6c7",
   "metadata": {},
   "outputs": [
    {
     "name": "stdout",
     "output_type": "stream",
     "text": [
      "The f-value is 0.7855597644220839 and the p value is 0.3756558760938056\n",
      "We fail to reject null hypothesis\n"
     ]
    }
   ],
   "source": [
    "age_group_1 = merged_table['total_policy_claims'].loc[merged_table.age_group==\"Youth\"]\n",
    "age_group_2 = merged_table['total_policy_claims'].loc[merged_table.age_group==\"Adult\"]\n",
    "# Perfrom the Anova\n",
    "anova = stats.f_oneway(age_group_1,age_group_2)\n",
    "# Statistic :  F Value\n",
    "f = anova.statistic\n",
    "p = anova.pvalue\n",
    "print(\"The f-value is {} and the p value is {}\".format(f,p))\n",
    "if(p<0.05):\n",
    "    print('We reject null hypothesis')\n",
    "else:\n",
    "    print('We fail to reject null hypothesis')"
   ]
  },
  {
   "cell_type": "code",
   "execution_count": 736,
   "id": "b2338844",
   "metadata": {},
   "outputs": [],
   "source": [
    "# 20. Is there any relationship between total number of policy claims and the claimed amount?"
   ]
  },
  {
   "cell_type": "code",
   "execution_count": 738,
   "id": "8a1d3431",
   "metadata": {},
   "outputs": [
    {
     "data": {
      "text/plain": [
       "-0.023900066023189667"
      ]
     },
     "execution_count": 738,
     "metadata": {},
     "output_type": "execute_result"
    }
   ],
   "source": [
    "#Correlation\n",
    "merged_table.total_policy_claims.corr(other= merged_table.claim_amount)\n",
    "\n",
    "\n",
    "# As the correlation is negative the number of policy claims in inversely propotional to the claimed amount."
   ]
  },
  {
   "cell_type": "code",
   "execution_count": 739,
   "id": "f8ace8da",
   "metadata": {},
   "outputs": [
    {
     "data": {
      "text/plain": [
       "'..................................END...................................................'"
      ]
     },
     "execution_count": 739,
     "metadata": {},
     "output_type": "execute_result"
    }
   ],
   "source": [
    "'''..................................END...................................................'''"
   ]
  }
 ],
 "metadata": {
  "kernelspec": {
   "display_name": "Python 3 (ipykernel)",
   "language": "python",
   "name": "python3"
  },
  "language_info": {
   "codemirror_mode": {
    "name": "ipython",
    "version": 3
   },
   "file_extension": ".py",
   "mimetype": "text/x-python",
   "name": "python",
   "nbconvert_exporter": "python",
   "pygments_lexer": "ipython3",
   "version": "3.11.4"
  }
 },
 "nbformat": 4,
 "nbformat_minor": 5
}
